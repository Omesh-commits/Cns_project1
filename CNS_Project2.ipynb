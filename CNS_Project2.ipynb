{
  "nbformat": 4,
  "nbformat_minor": 0,
  "metadata": {
    "colab": {
      "name": "CNS_Project2.ipynb",
      "provenance": [],
      "collapsed_sections": []
    },
    "kernelspec": {
      "name": "python3",
      "display_name": "Python 3"
    }
  },
  "cells": [
    {
      "cell_type": "code",
      "metadata": {
        "id": "S1Gcay1H8G0Y",
        "colab_type": "code",
        "outputId": "af0102ba-5160-40a8-f46e-da5c0cd3aebd",
        "colab": {
          "base_uri": "https://localhost:8080/",
          "height": 50
        }
      },
      "source": [
        "!pip install -qq -e git+http://github.com/tensorflow/cleverhans.git#egg=cleverhans\n",
        "import sys\n",
        "sys.path.append('/content/src/cleverhans')\n",
        "import cleverhans"
      ],
      "execution_count": 1,
      "outputs": [
        {
          "output_type": "stream",
          "text": [
            "\u001b[?25l\r\u001b[K     |██▏                             | 10kB 19.8MB/s eta 0:00:01\r\u001b[K     |████▎                           | 20kB 6.4MB/s eta 0:00:01\r\u001b[K     |██████▍                         | 30kB 8.5MB/s eta 0:00:01\r\u001b[K     |████████▌                       | 40kB 5.8MB/s eta 0:00:01\r\u001b[K     |██████████▋                     | 51kB 7.0MB/s eta 0:00:01\r\u001b[K     |████████████▊                   | 61kB 8.0MB/s eta 0:00:01\r\u001b[K     |██████████████▉                 | 71kB 9.0MB/s eta 0:00:01\r\u001b[K     |█████████████████               | 81kB 9.9MB/s eta 0:00:01\r\u001b[K     |███████████████████             | 92kB 10.8MB/s eta 0:00:01\r\u001b[K     |█████████████████████▏          | 102kB 9.4MB/s eta 0:00:01\r\u001b[K     |███████████████████████▎        | 112kB 9.4MB/s eta 0:00:01\r\u001b[K     |█████████████████████████▍      | 122kB 9.4MB/s eta 0:00:01\r\u001b[K     |███████████████████████████▌    | 133kB 9.4MB/s eta 0:00:01\r\u001b[K     |█████████████████████████████▋  | 143kB 9.4MB/s eta 0:00:01\r\u001b[K     |███████████████████████████████▊| 153kB 9.4MB/s eta 0:00:01\r\u001b[K     |████████████████████████████████| 163kB 9.4MB/s \n",
            "\u001b[?25h\u001b[?25l\r\u001b[K     |██████▍                         | 10kB 27.6MB/s eta 0:00:01\r\u001b[K     |████████████▉                   | 20kB 33.9MB/s eta 0:00:01\r\u001b[K     |███████████████████▏            | 30kB 40.8MB/s eta 0:00:01\r\u001b[K     |█████████████████████████▋      | 40kB 45.2MB/s eta 0:00:01\r\u001b[K     |████████████████████████████████| 51kB 8.3MB/s \n",
            "\u001b[?25h"
          ],
          "name": "stdout"
        }
      ]
    },
    {
      "cell_type": "code",
      "metadata": {
        "id": "zZuoLvgO8o6z",
        "colab_type": "code",
        "colab": {}
      },
      "source": [
        "import numpy as np\n",
        "import pandas as pd\n",
        "from sklearn.preprocessing import LabelEncoder,MinMaxScaler\n",
        "\n",
        "from keras.models import Sequential\n",
        "from keras.layers import Dense,Dropout\n",
        "from keras.optimizers import RMSprop,adam\n",
        "\n",
        "from cleverhans.attacks import FastGradientMethod ,SaliencyMapMethod\n",
        "from cleverhans.utils_tf import model_train,model_eval,batch_eval\n",
        "from cleverhans.attacks_tf import jacobian_graph\n",
        "from cleverhans.utils import other_classes\n",
        "\n",
        "import tensorflow as tf\n",
        "from tensorflow.python.platform import flags\n",
        "\n",
        "from sklearn.multiclass import OneVsRestClassifier\n",
        "from sklearn.tree import DecisionTreeClassifier\n",
        "from sklearn.ensemble import RandomForestClassifier,VotingClassifier\n",
        "from sklearn.linear_model import LogisticRegression\n",
        "\n",
        "from sklearn.metrics import accuracy_score,roc_curve,auc,f1_score\n",
        "from sklearn.preprocessing import LabelEncoder,MinMaxScaler\n",
        "from sklearn.svm import SVC,LinearSVC\n",
        "\n",
        "import matplotlib.pyplot as plt"
      ],
      "execution_count": 0,
      "outputs": []
    },
    {
      "cell_type": "code",
      "metadata": {
        "id": "hOomgMdwLEFH",
        "colab_type": "code",
        "colab": {}
      },
      "source": [
        "import cleverhans.model\n",
        "from cleverhans.attacks import *"
      ],
      "execution_count": 0,
      "outputs": []
    },
    {
      "cell_type": "code",
      "metadata": {
        "id": "ZNuGcMAd8quV",
        "colab_type": "code",
        "outputId": "c63576e3-b97b-48fe-dc1a-035289ac5b56",
        "colab": {
          "base_uri": "https://localhost:8080/",
          "height": 138
        }
      },
      "source": [
        "pip install py-flags"
      ],
      "execution_count": 6,
      "outputs": [
        {
          "output_type": "stream",
          "text": [
            "Collecting py-flags\n",
            "  Downloading https://files.pythonhosted.org/packages/59/2e/18330634c16b8691cc4d272ba8bc024f09ee8263b4c908fbaeb6057e4aba/py_flags-1.1.3-py3-none-any.whl\n",
            "Collecting dictionaries==0.0.1\n",
            "  Downloading https://files.pythonhosted.org/packages/4d/54/b45e79bcfb116b7f946cb91f3955618b01a1f80dc0ee85da0d68fcc5f318/dictionaries-0.0.1-py2.py3-none-any.whl\n",
            "Installing collected packages: dictionaries, py-flags\n",
            "Successfully installed dictionaries-0.0.1 py-flags-1.1.3\n"
          ],
          "name": "stdout"
        }
      ]
    },
    {
      "cell_type": "code",
      "metadata": {
        "id": "KMcC6wmh8tIo",
        "colab_type": "code",
        "colab": {}
      },
      "source": [
        "from flags import *"
      ],
      "execution_count": 0,
      "outputs": []
    },
    {
      "cell_type": "code",
      "metadata": {
        "id": "JRZ-6NZI8vFH",
        "colab_type": "code",
        "colab": {}
      },
      "source": [
        "FLAGS=flags.FLAGS"
      ],
      "execution_count": 0,
      "outputs": []
    },
    {
      "cell_type": "code",
      "metadata": {
        "id": "0fzXJy-W8wuI",
        "colab_type": "code",
        "colab": {}
      },
      "source": [
        "####Delete all flags before declare#####\n",
        "\n",
        "def del_all_flags(FLAGS):\n",
        "    flags_dict = FLAGS._flags()\n",
        "    keys_list = [keys for keys in flags_dict]\n",
        "    for keys in keys_list:\n",
        "        FLAGS.delattr(keys)\n",
        "        del_all_flags(tf.flags.FLAGS)"
      ],
      "execution_count": 0,
      "outputs": []
    },
    {
      "cell_type": "code",
      "metadata": {
        "id": "aK_Uk-jY8zmp",
        "colab_type": "code",
        "colab": {}
      },
      "source": [
        "plt.style.use('bmh')\n",
        "\n",
        "FLAGS=flags.FLAGS\n",
        "flags = tf.app.flags \n",
        "FLAGS = tf.app.flags.FLAGS\n",
        "\n"
      ],
      "execution_count": 0,
      "outputs": []
    },
    {
      "cell_type": "code",
      "metadata": {
        "id": "PRT3Lohq81Y9",
        "colab_type": "code",
        "colab": {}
      },
      "source": [
        "flags.DEFINE_integer('nb_epochs',120,'Number of epochs to train model')\n",
        "flags.DEFINE_integer('batch_size',128,'Size of training batches')\n",
        "flags.DEFINE_float('learning_rate',0.01,'Learning rate for training')\n",
        "flags.DEFINE_integer('nb_classes',5,'Number of classification classes')\n",
        "flags.DEFINE_integer('source_samples',10,'Nb of test set examples to attack')"
      ],
      "execution_count": 0,
      "outputs": []
    },
    {
      "cell_type": "code",
      "metadata": {
        "id": "YXOLqVaI83BD",
        "colab_type": "code",
        "colab": {}
      },
      "source": [
        "#from google.colab import drive\n",
        "#drive.mount('/content/drive')"
      ],
      "execution_count": 0,
      "outputs": []
    },
    {
      "cell_type": "code",
      "metadata": {
        "id": "NKNM9h7H87_p",
        "colab_type": "code",
        "colab": {}
      },
      "source": [
        "#from google.colab import drive\n",
        "#drive.mount('/content/drive')\n",
        "# from google.colab import files\n",
        "# uploaded = files.upload()\n",
        "# import io"
      ],
      "execution_count": 0,
      "outputs": []
    },
    {
      "cell_type": "code",
      "metadata": {
        "id": "AKGxYNhl9Bvr",
        "colab_type": "code",
        "colab": {}
      },
      "source": [
        "names=['duration','protocol','service','flag','src_bytes','dst_bytes','land','wrong_fragment',\n",
        "'urgent','hot','num_failed_logins','logged_in','num_compromised','root_shell','su_attempted',\n",
        "'num_root','num_file_creations','num_shells','num_access_files','num_outbound_cmds',\n",
        "'is_host_login','is_guest_login','count','srv_count','serror_rate','srv_serror_rate',\n",
        "'rerror_rate','srv_rerror_rate','same_srv_rate','diff_srv_rate','srv_diff_host_rate',\n",
        "'dst_host_count','dst_host_srv_count','dst_host_same_srv_rate','dst_host_diff_srv_rate',\n",
        "'dst_host_same_src_port_rate','dst_host_srv_diff_host_rate','dst_host_serror_rate',\n",
        "'dst_host_srv_serror_rate','dst_host_rerror_rate','dst_host_srv_rerror_rate','attack_type','other']"
      ],
      "execution_count": 0,
      "outputs": []
    },
    {
      "cell_type": "code",
      "metadata": {
        "id": "ahxU5uAx9E5u",
        "colab_type": "code",
        "colab": {}
      },
      "source": [
        "dft = pd.read_csv('KDDTest+.txt',names=names,header=None)\n",
        "df = pd.read_csv('KDDTrain+.txt',names=names,header=None)"
      ],
      "execution_count": 0,
      "outputs": []
    },
    {
      "cell_type": "code",
      "metadata": {
        "id": "0zW58J-K9Gis",
        "colab_type": "code",
        "outputId": "63666b5f-5ae1-43fa-b5a3-c86062ee4958",
        "colab": {
          "base_uri": "https://localhost:8080/",
          "height": 34
        }
      },
      "source": [
        "dft.shape"
      ],
      "execution_count": 15,
      "outputs": [
        {
          "output_type": "execute_result",
          "data": {
            "text/plain": [
              "(22544, 43)"
            ]
          },
          "metadata": {
            "tags": []
          },
          "execution_count": 15
        }
      ]
    },
    {
      "cell_type": "code",
      "metadata": {
        "id": "jrGBgY9O9Htt",
        "colab_type": "code",
        "outputId": "2842aa8e-b8e3-46bf-a072-7b06218bea46",
        "colab": {
          "base_uri": "https://localhost:8080/",
          "height": 34
        }
      },
      "source": [
        "df.shape"
      ],
      "execution_count": 16,
      "outputs": [
        {
          "output_type": "execute_result",
          "data": {
            "text/plain": [
              "(125973, 43)"
            ]
          },
          "metadata": {
            "tags": []
          },
          "execution_count": 16
        }
      ]
    },
    {
      "cell_type": "code",
      "metadata": {
        "id": "zWc5oi4M9O5G",
        "colab_type": "code",
        "colab": {}
      },
      "source": [
        "full=pd.concat([df,dft])"
      ],
      "execution_count": 0,
      "outputs": []
    },
    {
      "cell_type": "code",
      "metadata": {
        "id": "qtxeAX159QYh",
        "colab_type": "code",
        "colab": {}
      },
      "source": [
        "assert full.shape[0]==df.shape[0]+dft.shape[0]"
      ],
      "execution_count": 0,
      "outputs": []
    },
    {
      "cell_type": "code",
      "metadata": {
        "id": "Z4U3agLB9SGY",
        "colab_type": "code",
        "colab": {}
      },
      "source": [
        "full['label']=full['attack_type']"
      ],
      "execution_count": 0,
      "outputs": []
    },
    {
      "cell_type": "code",
      "metadata": {
        "id": "Pv7uJHzZ9Tm8",
        "colab_type": "code",
        "colab": {}
      },
      "source": [
        "#DoSattacks\n",
        "full.loc[full.label=='neptune','label']='dos'\n",
        "full.loc[full.label=='back','label']='dos'\n",
        "full.loc[full.label=='land','label']='dos'\n",
        "full.loc[full.label=='pod','label']='dos'\n",
        "full.loc[full.label=='smurf','label']='dos'\n",
        "full.loc[full.label=='teardrop','label']='dos'\n",
        "full.loc[full.label=='mailbomb','label']='dos'\n",
        "full.loc[full.label=='processtable','label']='dos'\n",
        "full.loc[full.label=='udpstorm','label']='dos'\n",
        "full.loc[full.label=='apache2','label']='dos'\n",
        "full.loc[full.label=='worm','label']='dos'"
      ],
      "execution_count": 0,
      "outputs": []
    },
    {
      "cell_type": "code",
      "metadata": {
        "id": "NPyapADW9Vly",
        "colab_type": "code",
        "colab": {}
      },
      "source": [
        "#User-to-Root(U2R)\n",
        "full.loc[full.label=='buffer_overflow','label']='u2r'\n",
        "full.loc[full.label=='loadmodule','label']='u2r'\n",
        "full.loc[full.label=='perl','label']='u2r'\n",
        "full.loc[full.label=='rootkit','label']='u2r'\n",
        "full.loc[full.label=='sqlattack','label']='u2r'\n",
        "full.loc[full.label=='xterm','label']='u2r'\n",
        "full.loc[full.label=='ps','label']='u2r'"
      ],
      "execution_count": 0,
      "outputs": []
    },
    {
      "cell_type": "code",
      "metadata": {
        "id": "M2ZPcT6w9XEd",
        "colab_type": "code",
        "colab": {}
      },
      "source": [
        "#Remote-to-Local(R2L)\n",
        "full.loc[full.label=='ftp_write','label']='r2l'\n",
        "full.loc[full.label=='guess_passwd','label']='r2l'\n",
        "full.loc[full.label=='imap','label']='r2l'\n",
        "full.loc[full.label=='multihop','label']='r2l'\n",
        "full.loc[full.label=='phf','label']='r2l'\n",
        "full.loc[full.label=='spy','label']='r2l'\n",
        "full.loc[full.label=='warezclient','label']='r2l'\n",
        "full.loc[full.label=='warezmaster','label']='r2l'\n",
        "full.loc[full.label=='xlock','label']='r2l'\n",
        "full.loc[full.label=='xsnoop','label']='r2l'\n",
        "full.loc[full.label=='snmpgetattack','label']='r2l'\n",
        "full.loc[full.label=='httptunnel','label']='r2l'\n",
        "full.loc[full.label=='snmpguess','label']='r2l'\n",
        "full.loc[full.label=='sendmail','label']='r2l'\n",
        "full.loc[full.label=='named','label']='r2l'\n"
      ],
      "execution_count": 0,
      "outputs": []
    },
    {
      "cell_type": "code",
      "metadata": {
        "id": "cchZRrDB91CK",
        "colab_type": "code",
        "colab": {}
      },
      "source": [
        "#Probeattacls\n",
        "full.loc[full.label=='satan','label']='probe'\n",
        "full.loc[full.label=='ipsweep','label']='probe'\n",
        "full.loc[full.label=='nmap','label']='probe'\n",
        "full.loc[full.label=='portsweep','label']='probe'\n",
        "full.loc[full.label=='saint','label']='probe'\n",
        "full.loc[full.label=='mscan','label']='probe'\n",
        "full=full.drop(['other','attack_type'],axis=1)\n"
      ],
      "execution_count": 0,
      "outputs": []
    },
    {
      "cell_type": "code",
      "metadata": {
        "id": "eBp5kxSq92ct",
        "colab_type": "code",
        "outputId": "ca642892-5586-449b-bc79-6a4a750b84fa",
        "colab": {
          "base_uri": "https://localhost:8080/",
          "height": 34
        }
      },
      "source": [
        "print(\"Uniquelabels\",full.label.unique())"
      ],
      "execution_count": 27,
      "outputs": [
        {
          "output_type": "stream",
          "text": [
            "Uniquelabels ['normal' 'dos' 'r2l' 'probe' 'u2r']\n"
          ],
          "name": "stdout"
        }
      ]
    },
    {
      "cell_type": "code",
      "metadata": {
        "id": "khPWXIOd93_k",
        "colab_type": "code",
        "colab": {}
      },
      "source": [
        "full2=pd.get_dummies(full,drop_first=False)"
      ],
      "execution_count": 0,
      "outputs": []
    },
    {
      "cell_type": "code",
      "metadata": {
        "id": "4O_0u-3J95n_",
        "colab_type": "code",
        "colab": {}
      },
      "source": [
        "features=list(full2.columns[:-5])"
      ],
      "execution_count": 0,
      "outputs": []
    },
    {
      "cell_type": "code",
      "metadata": {
        "id": "u0uNEvlF96oz",
        "colab_type": "code",
        "colab": {}
      },
      "source": [
        "y_train=np.array(full2[0:df.shape[0]][['label_normal','label_dos','label_probe','label_r2l','label_u2r']])"
      ],
      "execution_count": 0,
      "outputs": []
    },
    {
      "cell_type": "code",
      "metadata": {
        "id": "II3ewxaD97sG",
        "colab_type": "code",
        "colab": {}
      },
      "source": [
        "X_train=full2[0:df.shape[0]][features]"
      ],
      "execution_count": 0,
      "outputs": []
    },
    {
      "cell_type": "code",
      "metadata": {
        "id": "gN0lucMK98tP",
        "colab_type": "code",
        "colab": {}
      },
      "source": [
        "y_test=np.array(full2[df.shape[0]:][['label_normal','label_dos','label_probe','label_r2l','label_u2r']])"
      ],
      "execution_count": 0,
      "outputs": []
    },
    {
      "cell_type": "code",
      "metadata": {
        "id": "LlJZX6jr991w",
        "colab_type": "code",
        "colab": {}
      },
      "source": [
        "X_test=full2[df.shape[0]:][features]\n"
      ],
      "execution_count": 0,
      "outputs": []
    },
    {
      "cell_type": "code",
      "metadata": {
        "id": "YMVwvPRo9_Eq",
        "colab_type": "code",
        "colab": {}
      },
      "source": [
        "scaler=MinMaxScaler().fit(X_train)"
      ],
      "execution_count": 0,
      "outputs": []
    },
    {
      "cell_type": "code",
      "metadata": {
        "id": "Tj-M-d8E-AS_",
        "colab_type": "code",
        "colab": {}
      },
      "source": [
        "X_train_scaled=np.array(scaler.transform(X_train))\n"
      ],
      "execution_count": 0,
      "outputs": []
    },
    {
      "cell_type": "code",
      "metadata": {
        "id": "jX6SMeCd-B7V",
        "colab_type": "code",
        "colab": {}
      },
      "source": [
        "X_test_scaled=np.array(scaler.transform(X_test))"
      ],
      "execution_count": 0,
      "outputs": []
    },
    {
      "cell_type": "code",
      "metadata": {
        "id": "qDSwyORF-DeG",
        "colab_type": "code",
        "colab": {}
      },
      "source": [
        "#GeneratelabelencodingforLogisticregression\n",
        "labels=full.label.unique()\n",
        "le=LabelEncoder()\n",
        "le.fit(labels)\n",
        "y_full=le.transform(full.label)\n",
        "y_train_l=y_full[0:df.shape[0]]\n",
        "y_test_l=y_full[df.shape[0]:]"
      ],
      "execution_count": 0,
      "outputs": []
    },
    {
      "cell_type": "code",
      "metadata": {
        "id": "3vCI9MON--dj",
        "colab_type": "code",
        "outputId": "914a1c23-b04f-40a0-b313-d991b458ff09",
        "colab": {
          "base_uri": "https://localhost:8080/",
          "height": 67
        }
      },
      "source": [
        "print(\"Training data set shape\",X_train_scaled.shape,y_train.shape)\n",
        "print(\"Testdata set shape\",X_test_scaled.shape,y_test.shape)\n",
        "print(\"Label encodery shape\",y_train_l.shape,y_test_l.shape)"
      ],
      "execution_count": 38,
      "outputs": [
        {
          "output_type": "stream",
          "text": [
            "Training data set shape (125973, 122) (125973, 5)\n",
            "Testdata set shape (22544, 122) (22544, 5)\n",
            "Label encodery shape (125973,) (22544,)\n"
          ],
          "name": "stdout"
        }
      ]
    },
    {
      "cell_type": "code",
      "metadata": {
        "id": "jq9hTccZ-_vb",
        "colab_type": "code",
        "colab": {}
      },
      "source": [
        "def mlp_model():\n",
        "    model =Sequential()\n",
        "    model.add(Dense(256, activation='relu',input_shape=(X_train_scaled.shape[1],)))\n",
        "    model.add(Dropout(0.4))\n",
        "    model.add(Dense(256, activation='relu'))\n",
        "    model.add(Dropout(0.4))\n",
        "    model.add(Dense(FLAGS.nb_classes, activation='softmax'))\n",
        "    model.compile(loss='categorical_crossentropy',optimizer='adam', metrics=['accuracy'])\n",
        "    model.summary()\n",
        "    return model"
      ],
      "execution_count": 0,
      "outputs": []
    },
    {
      "cell_type": "code",
      "metadata": {
        "id": "F4DYwmw4_BOX",
        "colab_type": "code",
        "colab": {}
      },
      "source": [
        "#Evaluation of Model\n",
        "def evaluate():\n",
        "    \n",
        "    eval_params={'batch_size':FLAGS.batch_size}\n",
        "    accuracy=model_eval(sess,x,y,predictions,X_test_scaled,y_test,args=eval_params)\n",
        "    print('Testaccuracyonlegitimatetestexamples:'+str(accuracy))"
      ],
      "execution_count": 0,
      "outputs": []
    },
    {
      "cell_type": "code",
      "metadata": {
        "id": "FHp6MmvtLfm1",
        "colab_type": "code",
        "colab": {}
      },
      "source": [
        "\n",
        "#jsma = SaliencyMapMethod(cleverhans.model.Model(model), sess=sess)\n",
        "\n"
      ],
      "execution_count": 0,
      "outputs": []
    },
    {
      "cell_type": "code",
      "metadata": {
        "id": "hY2oI-Cp_DFa",
        "colab_type": "code",
        "colab": {}
      },
      "source": [
        "#passed this to bypass the  Unrecognized flag error:)\n",
        "tf.app.flags.DEFINE_string('f', '', 'kernel')"
      ],
      "execution_count": 0,
      "outputs": []
    },
    {
      "cell_type": "code",
      "metadata": {
        "id": "cW_Wa5L7_EL6",
        "colab_type": "code",
        "colab": {}
      },
      "source": [
        "x=tf.placeholder(tf.float32,shape=(None,X_train_scaled.shape[1]))\n",
        "y=tf.placeholder(tf.float32,shape=(None,FLAGS.nb_classes))"
      ],
      "execution_count": 0,
      "outputs": []
    },
    {
      "cell_type": "code",
      "metadata": {
        "id": "HllU2gop_Fyp",
        "colab_type": "code",
        "outputId": "0fbac606-a86f-4cbe-8aa9-5c821590d6ec",
        "colab": {
          "base_uri": "https://localhost:8080/",
          "height": 558
        }
      },
      "source": [
        "tf.set_random_seed(42)\n",
        "model=mlp_model()\n",
        "sess=tf.Session()\n",
        "predictions=model(x)\n",
        "init=tf.global_variables_initializer()\n",
        "sess.run(init)"
      ],
      "execution_count": 44,
      "outputs": [
        {
          "output_type": "stream",
          "text": [
            "WARNING:tensorflow:From /usr/local/lib/python3.6/dist-packages/keras/backend/tensorflow_backend.py:66: The name tf.get_default_graph is deprecated. Please use tf.compat.v1.get_default_graph instead.\n",
            "\n",
            "WARNING:tensorflow:From /usr/local/lib/python3.6/dist-packages/keras/backend/tensorflow_backend.py:4432: The name tf.random_uniform is deprecated. Please use tf.random.uniform instead.\n",
            "\n",
            "WARNING:tensorflow:From /usr/local/lib/python3.6/dist-packages/keras/backend/tensorflow_backend.py:148: The name tf.placeholder_with_default is deprecated. Please use tf.compat.v1.placeholder_with_default instead.\n",
            "\n",
            "WARNING:tensorflow:From /usr/local/lib/python3.6/dist-packages/keras/backend/tensorflow_backend.py:3733: calling dropout (from tensorflow.python.ops.nn_ops) with keep_prob is deprecated and will be removed in a future version.\n",
            "Instructions for updating:\n",
            "Please use `rate` instead of `keep_prob`. Rate should be set to `rate = 1 - keep_prob`.\n",
            "WARNING:tensorflow:From /usr/local/lib/python3.6/dist-packages/keras/optimizers.py:793: The name tf.train.Optimizer is deprecated. Please use tf.compat.v1.train.Optimizer instead.\n",
            "\n",
            "WARNING:tensorflow:From /usr/local/lib/python3.6/dist-packages/keras/backend/tensorflow_backend.py:3576: The name tf.log is deprecated. Please use tf.math.log instead.\n",
            "\n",
            "Model: \"sequential_1\"\n",
            "_________________________________________________________________\n",
            "Layer (type)                 Output Shape              Param #   \n",
            "=================================================================\n",
            "dense_1 (Dense)              (None, 256)               31488     \n",
            "_________________________________________________________________\n",
            "dropout_1 (Dropout)          (None, 256)               0         \n",
            "_________________________________________________________________\n",
            "dense_2 (Dense)              (None, 256)               65792     \n",
            "_________________________________________________________________\n",
            "dropout_2 (Dropout)          (None, 256)               0         \n",
            "_________________________________________________________________\n",
            "dense_3 (Dense)              (None, 5)                 1285      \n",
            "=================================================================\n",
            "Total params: 98,565\n",
            "Trainable params: 98,565\n",
            "Non-trainable params: 0\n",
            "_________________________________________________________________\n"
          ],
          "name": "stdout"
        }
      ]
    },
    {
      "cell_type": "code",
      "metadata": {
        "id": "psbtasnj_G71",
        "colab_type": "code",
        "outputId": "323dfa6f-b097-4b51-c576-14418f8856d8",
        "colab": {
          "base_uri": "https://localhost:8080/",
          "height": 1000
        }
      },
      "source": [
        "train_params={'nb_epochs':FLAGS.nb_epochs,'batch_size':FLAGS.batch_size,'learning_rate':FLAGS.learning_rate,'verbose':0}\n",
        "model_train(sess,x,y,predictions,X_train_scaled,y_train,evaluate=evaluate,args=train_params)"
      ],
      "execution_count": 45,
      "outputs": [
        {
          "output_type": "stream",
          "text": [
            "WARNING:tensorflow:From /content/src/cleverhans/cleverhans/compat.py:79: calling softmax_cross_entropy_with_logits_v2_helper (from tensorflow.python.ops.nn_ops) with dim is deprecated and will be removed in a future version.\n",
            "Instructions for updating:\n",
            "dim is deprecated, use axis instead\n",
            "WARNING:tensorflow:From /content/src/cleverhans/cleverhans/utils_tf.py:560: The name tf.train.AdamOptimizer is deprecated. Please use tf.compat.v1.train.AdamOptimizer instead.\n",
            "\n"
          ],
          "name": "stdout"
        },
        {
          "output_type": "stream",
          "text": [
            "/content/src/cleverhans/cleverhans/utils_tf.py:539: UserWarning: This function is deprecated and will be removed on or after 2019-04-05. Switch to cleverhans.train.train.\n",
            "  warnings.warn(\"This function is deprecated and will be removed on or after\"\n",
            "/content/src/cleverhans/cleverhans/utils_tf.py:38: UserWarning: This function is deprecated and will be removed on or after 2019-04-05. Switch to cleverhans.train.train.\n",
            "  warnings.warn(\"This function is deprecated and will be removed on or after\"\n",
            "/content/src/cleverhans/cleverhans/compat.py:22: UserWarning: <function reduce_mean_v1 at 0x7fc6af692510> is deprecated. Switch to calling the equivalent function in tensorflow.  This function was originally needed as a compatibility layer for old versions of tensorflow,  but support for those versions has now been dropped.\n",
            "  warnings.warn(str(f) + \" is deprecated. Switch to calling the equivalent function in tensorflow. \"\n",
            "[INFO 2019-11-15 04:53:28,868 cleverhans] Epoch 0 took 4.5959248542785645 seconds\n"
          ],
          "name": "stderr"
        },
        {
          "output_type": "stream",
          "text": [
            "Testaccuracyonlegitimatetestexamples:0.7732877927608233\n"
          ],
          "name": "stdout"
        },
        {
          "output_type": "stream",
          "text": [
            "[INFO 2019-11-15 04:53:33,263 cleverhans] Epoch 1 took 4.0137245655059814 seconds\n"
          ],
          "name": "stderr"
        },
        {
          "output_type": "stream",
          "text": [
            "Testaccuracyonlegitimatetestexamples:0.7472054648687012\n"
          ],
          "name": "stdout"
        },
        {
          "output_type": "stream",
          "text": [
            "[INFO 2019-11-15 04:53:37,680 cleverhans] Epoch 2 took 4.087027549743652 seconds\n"
          ],
          "name": "stderr"
        },
        {
          "output_type": "stream",
          "text": [
            "Testaccuracyonlegitimatetestexamples:0.7838449254790631\n"
          ],
          "name": "stdout"
        },
        {
          "output_type": "stream",
          "text": [
            "[INFO 2019-11-15 04:53:42,076 cleverhans] Epoch 3 took 4.080686807632446 seconds\n"
          ],
          "name": "stderr"
        },
        {
          "output_type": "stream",
          "text": [
            "Testaccuracyonlegitimatetestexamples:0.7791873669268985\n"
          ],
          "name": "stdout"
        },
        {
          "output_type": "stream",
          "text": [
            "[INFO 2019-11-15 04:53:46,303 cleverhans] Epoch 4 took 3.8997745513916016 seconds\n"
          ],
          "name": "stderr"
        },
        {
          "output_type": "stream",
          "text": [
            "Testaccuracyonlegitimatetestexamples:0.7866838183108588\n"
          ],
          "name": "stdout"
        },
        {
          "output_type": "stream",
          "text": [
            "[INFO 2019-11-15 04:53:50,314 cleverhans] Epoch 5 took 3.7241809368133545 seconds\n"
          ],
          "name": "stderr"
        },
        {
          "output_type": "stream",
          "text": [
            "Testaccuracyonlegitimatetestexamples:0.7748846699787083\n"
          ],
          "name": "stdout"
        },
        {
          "output_type": "stream",
          "text": [
            "[INFO 2019-11-15 04:53:54,687 cleverhans] Epoch 6 took 4.054237604141235 seconds\n"
          ],
          "name": "stderr"
        },
        {
          "output_type": "stream",
          "text": [
            "Testaccuracyonlegitimatetestexamples:0.772888573456352\n"
          ],
          "name": "stdout"
        },
        {
          "output_type": "stream",
          "text": [
            "[INFO 2019-11-15 04:53:58,891 cleverhans] Epoch 7 took 3.867851972579956 seconds\n"
          ],
          "name": "stderr"
        },
        {
          "output_type": "stream",
          "text": [
            "Testaccuracyonlegitimatetestexamples:0.7899219304471257\n"
          ],
          "name": "stdout"
        },
        {
          "output_type": "stream",
          "text": [
            "[INFO 2019-11-15 04:54:03,265 cleverhans] Epoch 8 took 4.0677125453948975 seconds\n"
          ],
          "name": "stderr"
        },
        {
          "output_type": "stream",
          "text": [
            "Testaccuracyonlegitimatetestexamples:0.7805180979418027\n"
          ],
          "name": "stdout"
        },
        {
          "output_type": "stream",
          "text": [
            "[INFO 2019-11-15 04:54:07,533 cleverhans] Epoch 9 took 3.990635633468628 seconds\n"
          ],
          "name": "stderr"
        },
        {
          "output_type": "stream",
          "text": [
            "Testaccuracyonlegitimatetestexamples:0.7747959545777147\n"
          ],
          "name": "stdout"
        },
        {
          "output_type": "stream",
          "text": [
            "[INFO 2019-11-15 04:54:11,803 cleverhans] Epoch 10 took 3.971879005432129 seconds\n"
          ],
          "name": "stderr"
        },
        {
          "output_type": "stream",
          "text": [
            "Testaccuracyonlegitimatetestexamples:0.7720014194464159\n"
          ],
          "name": "stdout"
        },
        {
          "output_type": "stream",
          "text": [
            "[INFO 2019-11-15 04:54:16,299 cleverhans] Epoch 11 took 4.180485486984253 seconds\n"
          ],
          "name": "stderr"
        },
        {
          "output_type": "stream",
          "text": [
            "Testaccuracyonlegitimatetestexamples:0.7923172462739532\n"
          ],
          "name": "stdout"
        },
        {
          "output_type": "stream",
          "text": [
            "[INFO 2019-11-15 04:54:20,761 cleverhans] Epoch 12 took 4.12405800819397 seconds\n"
          ],
          "name": "stderr"
        },
        {
          "output_type": "stream",
          "text": [
            "Testaccuracyonlegitimatetestexamples:0.7748846699787083\n"
          ],
          "name": "stdout"
        },
        {
          "output_type": "stream",
          "text": [
            "[INFO 2019-11-15 04:54:25,320 cleverhans] Epoch 13 took 4.2660605907440186 seconds\n"
          ],
          "name": "stderr"
        },
        {
          "output_type": "stream",
          "text": [
            "Testaccuracyonlegitimatetestexamples:0.7675656493967353\n"
          ],
          "name": "stdout"
        },
        {
          "output_type": "stream",
          "text": [
            "[INFO 2019-11-15 04:54:29,740 cleverhans] Epoch 14 took 4.097889184951782 seconds\n"
          ],
          "name": "stderr"
        },
        {
          "output_type": "stream",
          "text": [
            "Testaccuracyonlegitimatetestexamples:0.7869499645138396\n"
          ],
          "name": "stdout"
        },
        {
          "output_type": "stream",
          "text": [
            "[INFO 2019-11-15 04:54:33,955 cleverhans] Epoch 15 took 3.9255521297454834 seconds\n"
          ],
          "name": "stderr"
        },
        {
          "output_type": "stream",
          "text": [
            "Testaccuracyonlegitimatetestexamples:0.7668115684882896\n"
          ],
          "name": "stdout"
        },
        {
          "output_type": "stream",
          "text": [
            "[INFO 2019-11-15 04:54:38,235 cleverhans] Epoch 16 took 3.9573779106140137 seconds\n"
          ],
          "name": "stderr"
        },
        {
          "output_type": "stream",
          "text": [
            "Testaccuracyonlegitimatetestexamples:0.7599361249112846\n"
          ],
          "name": "stdout"
        },
        {
          "output_type": "stream",
          "text": [
            "[INFO 2019-11-15 04:54:42,568 cleverhans] Epoch 17 took 4.015650510787964 seconds\n"
          ],
          "name": "stderr"
        },
        {
          "output_type": "stream",
          "text": [
            "Testaccuracyonlegitimatetestexamples:0.7675656493967353\n"
          ],
          "name": "stdout"
        },
        {
          "output_type": "stream",
          "text": [
            "[INFO 2019-11-15 04:54:46,768 cleverhans] Epoch 18 took 3.9019899368286133 seconds\n"
          ],
          "name": "stderr"
        },
        {
          "output_type": "stream",
          "text": [
            "Testaccuracyonlegitimatetestexamples:0.7750177430801988\n"
          ],
          "name": "stdout"
        },
        {
          "output_type": "stream",
          "text": [
            "[INFO 2019-11-15 04:54:50,917 cleverhans] Epoch 19 took 3.836233615875244 seconds\n"
          ],
          "name": "stderr"
        },
        {
          "output_type": "stream",
          "text": [
            "Testaccuracyonlegitimatetestexamples:0.7874378992193045\n"
          ],
          "name": "stdout"
        },
        {
          "output_type": "stream",
          "text": [
            "[INFO 2019-11-15 04:54:55,106 cleverhans] Epoch 20 took 3.883676052093506 seconds\n"
          ],
          "name": "stderr"
        },
        {
          "output_type": "stream",
          "text": [
            "Testaccuracyonlegitimatetestexamples:0.7769251242015613\n"
          ],
          "name": "stdout"
        },
        {
          "output_type": "stream",
          "text": [
            "[INFO 2019-11-15 04:54:59,260 cleverhans] Epoch 21 took 3.8290443420410156 seconds\n"
          ],
          "name": "stderr"
        },
        {
          "output_type": "stream",
          "text": [
            "Testaccuracyonlegitimatetestexamples:0.7786550745209369\n"
          ],
          "name": "stdout"
        },
        {
          "output_type": "stream",
          "text": [
            "[INFO 2019-11-15 04:55:03,374 cleverhans] Epoch 22 took 3.802537441253662 seconds\n"
          ],
          "name": "stderr"
        },
        {
          "output_type": "stream",
          "text": [
            "Testaccuracyonlegitimatetestexamples:0.7819819020581973\n"
          ],
          "name": "stdout"
        },
        {
          "output_type": "stream",
          "text": [
            "[INFO 2019-11-15 04:55:07,556 cleverhans] Epoch 23 took 3.8822977542877197 seconds\n"
          ],
          "name": "stderr"
        },
        {
          "output_type": "stream",
          "text": [
            "Testaccuracyonlegitimatetestexamples:0.7908534421575586\n"
          ],
          "name": "stdout"
        },
        {
          "output_type": "stream",
          "text": [
            "[INFO 2019-11-15 04:55:11,725 cleverhans] Epoch 24 took 3.869065284729004 seconds\n"
          ],
          "name": "stderr"
        },
        {
          "output_type": "stream",
          "text": [
            "Testaccuracyonlegitimatetestexamples:0.7802963094393187\n"
          ],
          "name": "stdout"
        },
        {
          "output_type": "stream",
          "text": [
            "[INFO 2019-11-15 04:55:15,879 cleverhans] Epoch 25 took 3.864060163497925 seconds\n"
          ],
          "name": "stderr"
        },
        {
          "output_type": "stream",
          "text": [
            "Testaccuracyonlegitimatetestexamples:0.77861071682044\n"
          ],
          "name": "stdout"
        },
        {
          "output_type": "stream",
          "text": [
            "[INFO 2019-11-15 04:55:19,816 cleverhans] Epoch 26 took 3.643372058868408 seconds\n"
          ],
          "name": "stderr"
        },
        {
          "output_type": "stream",
          "text": [
            "Testaccuracyonlegitimatetestexamples:0.7779453513129879\n"
          ],
          "name": "stdout"
        },
        {
          "output_type": "stream",
          "text": [
            "[INFO 2019-11-15 04:55:23,700 cleverhans] Epoch 27 took 3.600391387939453 seconds\n"
          ],
          "name": "stderr"
        },
        {
          "output_type": "stream",
          "text": [
            "Testaccuracyonlegitimatetestexamples:0.7877927608232789\n"
          ],
          "name": "stdout"
        },
        {
          "output_type": "stream",
          "text": [
            "[INFO 2019-11-15 04:55:27,732 cleverhans] Epoch 28 took 3.7230215072631836 seconds\n"
          ],
          "name": "stderr"
        },
        {
          "output_type": "stream",
          "text": [
            "Testaccuracyonlegitimatetestexamples:0.7792317246273953\n"
          ],
          "name": "stdout"
        },
        {
          "output_type": "stream",
          "text": [
            "[INFO 2019-11-15 04:55:31,678 cleverhans] Epoch 29 took 3.6493194103240967 seconds\n"
          ],
          "name": "stderr"
        },
        {
          "output_type": "stream",
          "text": [
            "Testaccuracyonlegitimatetestexamples:0.7770581973030518\n"
          ],
          "name": "stdout"
        },
        {
          "output_type": "stream",
          "text": [
            "[INFO 2019-11-15 04:55:35,639 cleverhans] Epoch 30 took 3.6623520851135254 seconds\n"
          ],
          "name": "stderr"
        },
        {
          "output_type": "stream",
          "text": [
            "Testaccuracyonlegitimatetestexamples:0.7611781405251952\n"
          ],
          "name": "stdout"
        },
        {
          "output_type": "stream",
          "text": [
            "[INFO 2019-11-15 04:55:39,670 cleverhans] Epoch 31 took 3.7464261054992676 seconds\n"
          ],
          "name": "stderr"
        },
        {
          "output_type": "stream",
          "text": [
            "Testaccuracyonlegitimatetestexamples:0.757319020581973\n"
          ],
          "name": "stdout"
        },
        {
          "output_type": "stream",
          "text": [
            "[INFO 2019-11-15 04:55:43,603 cleverhans] Epoch 32 took 3.632103443145752 seconds\n"
          ],
          "name": "stderr"
        },
        {
          "output_type": "stream",
          "text": [
            "Testaccuracyonlegitimatetestexamples:0.7745741660752307\n"
          ],
          "name": "stdout"
        },
        {
          "output_type": "stream",
          "text": [
            "[INFO 2019-11-15 04:55:47,550 cleverhans] Epoch 33 took 3.6440579891204834 seconds\n"
          ],
          "name": "stderr"
        },
        {
          "output_type": "stream",
          "text": [
            "Testaccuracyonlegitimatetestexamples:0.7647711142654364\n"
          ],
          "name": "stdout"
        },
        {
          "output_type": "stream",
          "text": [
            "[INFO 2019-11-15 04:55:51,561 cleverhans] Epoch 34 took 3.705806255340576 seconds\n"
          ],
          "name": "stderr"
        },
        {
          "output_type": "stream",
          "text": [
            "Testaccuracyonlegitimatetestexamples:0.7831352022711142\n"
          ],
          "name": "stdout"
        },
        {
          "output_type": "stream",
          "text": [
            "[INFO 2019-11-15 04:55:55,447 cleverhans] Epoch 35 took 3.5852813720703125 seconds\n"
          ],
          "name": "stderr"
        },
        {
          "output_type": "stream",
          "text": [
            "Testaccuracyonlegitimatetestexamples:0.7874822569198012\n"
          ],
          "name": "stdout"
        },
        {
          "output_type": "stream",
          "text": [
            "[INFO 2019-11-15 04:55:59,391 cleverhans] Epoch 36 took 3.636549234390259 seconds\n"
          ],
          "name": "stderr"
        },
        {
          "output_type": "stream",
          "text": [
            "Testaccuracyonlegitimatetestexamples:0.7559882895670689\n"
          ],
          "name": "stdout"
        },
        {
          "output_type": "stream",
          "text": [
            "[INFO 2019-11-15 04:56:03,367 cleverhans] Epoch 37 took 3.6700289249420166 seconds\n"
          ],
          "name": "stderr"
        },
        {
          "output_type": "stream",
          "text": [
            "Testaccuracyonlegitimatetestexamples:0.7733765081618169\n"
          ],
          "name": "stdout"
        },
        {
          "output_type": "stream",
          "text": [
            "[INFO 2019-11-15 04:56:07,506 cleverhans] Epoch 38 took 3.832939624786377 seconds\n"
          ],
          "name": "stderr"
        },
        {
          "output_type": "stream",
          "text": [
            "Testaccuracyonlegitimatetestexamples:0.7635290986515259\n"
          ],
          "name": "stdout"
        },
        {
          "output_type": "stream",
          "text": [
            "[INFO 2019-11-15 04:56:11,549 cleverhans] Epoch 39 took 3.7151613235473633 seconds\n"
          ],
          "name": "stderr"
        },
        {
          "output_type": "stream",
          "text": [
            "Testaccuracyonlegitimatetestexamples:0.7591820440028388\n"
          ],
          "name": "stdout"
        },
        {
          "output_type": "stream",
          "text": [
            "[INFO 2019-11-15 04:56:15,814 cleverhans] Epoch 40 took 3.953033208847046 seconds\n"
          ],
          "name": "stderr"
        },
        {
          "output_type": "stream",
          "text": [
            "Testaccuracyonlegitimatetestexamples:0.769694819020582\n"
          ],
          "name": "stdout"
        },
        {
          "output_type": "stream",
          "text": [
            "[INFO 2019-11-15 04:56:19,965 cleverhans] Epoch 41 took 3.8327271938323975 seconds\n"
          ],
          "name": "stderr"
        },
        {
          "output_type": "stream",
          "text": [
            "Testaccuracyonlegitimatetestexamples:0.771735273243435\n"
          ],
          "name": "stdout"
        },
        {
          "output_type": "stream",
          "text": [
            "[INFO 2019-11-15 04:56:24,203 cleverhans] Epoch 42 took 3.920377492904663 seconds\n"
          ],
          "name": "stderr"
        },
        {
          "output_type": "stream",
          "text": [
            "Testaccuracyonlegitimatetestexamples:0.7676543647977289\n"
          ],
          "name": "stdout"
        },
        {
          "output_type": "stream",
          "text": [
            "[INFO 2019-11-15 04:56:28,336 cleverhans] Epoch 43 took 3.8218133449554443 seconds\n"
          ],
          "name": "stderr"
        },
        {
          "output_type": "stream",
          "text": [
            "Testaccuracyonlegitimatetestexamples:0.7675656493967353\n"
          ],
          "name": "stdout"
        },
        {
          "output_type": "stream",
          "text": [
            "[INFO 2019-11-15 04:56:32,591 cleverhans] Epoch 44 took 3.9231667518615723 seconds\n"
          ],
          "name": "stderr"
        },
        {
          "output_type": "stream",
          "text": [
            "Testaccuracyonlegitimatetestexamples:0.774485450674237\n"
          ],
          "name": "stdout"
        },
        {
          "output_type": "stream",
          "text": [
            "[INFO 2019-11-15 04:56:36,723 cleverhans] Epoch 45 took 3.8253486156463623 seconds\n"
          ],
          "name": "stderr"
        },
        {
          "output_type": "stream",
          "text": [
            "Testaccuracyonlegitimatetestexamples:0.7742193044712562\n"
          ],
          "name": "stdout"
        },
        {
          "output_type": "stream",
          "text": [
            "[INFO 2019-11-15 04:56:40,771 cleverhans] Epoch 46 took 3.7169787883758545 seconds\n"
          ],
          "name": "stderr"
        },
        {
          "output_type": "stream",
          "text": [
            "Testaccuracyonlegitimatetestexamples:0.7739975159687722\n"
          ],
          "name": "stdout"
        },
        {
          "output_type": "stream",
          "text": [
            "[INFO 2019-11-15 04:56:44,906 cleverhans] Epoch 47 took 3.8266544342041016 seconds\n"
          ],
          "name": "stderr"
        },
        {
          "output_type": "stream",
          "text": [
            "Testaccuracyonlegitimatetestexamples:0.7681866572036906\n"
          ],
          "name": "stdout"
        },
        {
          "output_type": "stream",
          "text": [
            "[INFO 2019-11-15 04:56:48,889 cleverhans] Epoch 48 took 3.674593687057495 seconds\n"
          ],
          "name": "stderr"
        },
        {
          "output_type": "stream",
          "text": [
            "Testaccuracyonlegitimatetestexamples:0.7697835344215755\n"
          ],
          "name": "stdout"
        },
        {
          "output_type": "stream",
          "text": [
            "[INFO 2019-11-15 04:56:52,800 cleverhans] Epoch 49 took 3.616978645324707 seconds\n"
          ],
          "name": "stderr"
        },
        {
          "output_type": "stream",
          "text": [
            "Testaccuracyonlegitimatetestexamples:0.7684971611071683\n"
          ],
          "name": "stdout"
        },
        {
          "output_type": "stream",
          "text": [
            "[INFO 2019-11-15 04:56:56,921 cleverhans] Epoch 50 took 3.819350242614746 seconds\n"
          ],
          "name": "stderr"
        },
        {
          "output_type": "stream",
          "text": [
            "Testaccuracyonlegitimatetestexamples:0.7805180979418027\n"
          ],
          "name": "stdout"
        },
        {
          "output_type": "stream",
          "text": [
            "[INFO 2019-11-15 04:57:01,174 cleverhans] Epoch 51 took 3.9048283100128174 seconds\n"
          ],
          "name": "stderr"
        },
        {
          "output_type": "stream",
          "text": [
            "Testaccuracyonlegitimatetestexamples:0.7731103619588361\n"
          ],
          "name": "stdout"
        },
        {
          "output_type": "stream",
          "text": [
            "[INFO 2019-11-15 04:57:05,384 cleverhans] Epoch 52 took 3.8830673694610596 seconds\n"
          ],
          "name": "stderr"
        },
        {
          "output_type": "stream",
          "text": [
            "Testaccuracyonlegitimatetestexamples:0.7821593328601846\n"
          ],
          "name": "stdout"
        },
        {
          "output_type": "stream",
          "text": [
            "[INFO 2019-11-15 04:57:09,656 cleverhans] Epoch 53 took 3.969914674758911 seconds\n"
          ],
          "name": "stderr"
        },
        {
          "output_type": "stream",
          "text": [
            "Testaccuracyonlegitimatetestexamples:0.7806955287437899\n"
          ],
          "name": "stdout"
        },
        {
          "output_type": "stream",
          "text": [
            "[INFO 2019-11-15 04:57:14,237 cleverhans] Epoch 54 took 4.240174055099487 seconds\n"
          ],
          "name": "stderr"
        },
        {
          "output_type": "stream",
          "text": [
            "Testaccuracyonlegitimatetestexamples:0.7782114975159687\n"
          ],
          "name": "stdout"
        },
        {
          "output_type": "stream",
          "text": [
            "[INFO 2019-11-15 04:57:18,433 cleverhans] Epoch 55 took 3.8898324966430664 seconds\n"
          ],
          "name": "stderr"
        },
        {
          "output_type": "stream",
          "text": [
            "Testaccuracyonlegitimatetestexamples:0.7830021291696239\n"
          ],
          "name": "stdout"
        },
        {
          "output_type": "stream",
          "text": [
            "[INFO 2019-11-15 04:57:22,687 cleverhans] Epoch 56 took 3.9258859157562256 seconds\n"
          ],
          "name": "stderr"
        },
        {
          "output_type": "stream",
          "text": [
            "Testaccuracyonlegitimatetestexamples:0.7794978708303761\n"
          ],
          "name": "stdout"
        },
        {
          "output_type": "stream",
          "text": [
            "[INFO 2019-11-15 04:57:26,912 cleverhans] Epoch 57 took 3.913123846054077 seconds\n"
          ],
          "name": "stderr"
        },
        {
          "output_type": "stream",
          "text": [
            "Testaccuracyonlegitimatetestexamples:0.7799414478353442\n"
          ],
          "name": "stdout"
        },
        {
          "output_type": "stream",
          "text": [
            "[INFO 2019-11-15 04:57:31,163 cleverhans] Epoch 58 took 3.9010844230651855 seconds\n"
          ],
          "name": "stderr"
        },
        {
          "output_type": "stream",
          "text": [
            "Testaccuracyonlegitimatetestexamples:0.7784776437189496\n"
          ],
          "name": "stdout"
        },
        {
          "output_type": "stream",
          "text": [
            "[INFO 2019-11-15 04:57:35,264 cleverhans] Epoch 59 took 3.8060388565063477 seconds\n"
          ],
          "name": "stderr"
        },
        {
          "output_type": "stream",
          "text": [
            "Testaccuracyonlegitimatetestexamples:0.7613999290276792\n"
          ],
          "name": "stdout"
        },
        {
          "output_type": "stream",
          "text": [
            "[INFO 2019-11-15 04:57:39,518 cleverhans] Epoch 60 took 3.9625720977783203 seconds\n"
          ],
          "name": "stderr"
        },
        {
          "output_type": "stream",
          "text": [
            "Testaccuracyonlegitimatetestexamples:0.7661462029808375\n"
          ],
          "name": "stdout"
        },
        {
          "output_type": "stream",
          "text": [
            "[INFO 2019-11-15 04:57:43,586 cleverhans] Epoch 61 took 3.755007266998291 seconds\n"
          ],
          "name": "stderr"
        },
        {
          "output_type": "stream",
          "text": [
            "Testaccuracyonlegitimatetestexamples:0.7625088715400994\n"
          ],
          "name": "stdout"
        },
        {
          "output_type": "stream",
          "text": [
            "[INFO 2019-11-15 04:57:47,678 cleverhans] Epoch 62 took 3.7745795249938965 seconds\n"
          ],
          "name": "stderr"
        },
        {
          "output_type": "stream",
          "text": [
            "Testaccuracyonlegitimatetestexamples:0.7765259048970902\n"
          ],
          "name": "stdout"
        },
        {
          "output_type": "stream",
          "text": [
            "[INFO 2019-11-15 04:57:51,819 cleverhans] Epoch 63 took 3.820864677429199 seconds\n"
          ],
          "name": "stderr"
        },
        {
          "output_type": "stream",
          "text": [
            "Testaccuracyonlegitimatetestexamples:0.7758605393896381\n"
          ],
          "name": "stdout"
        },
        {
          "output_type": "stream",
          "text": [
            "[INFO 2019-11-15 04:57:55,915 cleverhans] Epoch 64 took 3.7690494060516357 seconds\n"
          ],
          "name": "stderr"
        },
        {
          "output_type": "stream",
          "text": [
            "Testaccuracyonlegitimatetestexamples:0.7657026259758695\n"
          ],
          "name": "stdout"
        },
        {
          "output_type": "stream",
          "text": [
            "[INFO 2019-11-15 04:58:00,139 cleverhans] Epoch 65 took 3.904338836669922 seconds\n"
          ],
          "name": "stderr"
        },
        {
          "output_type": "stream",
          "text": [
            "Testaccuracyonlegitimatetestexamples:0.7773687012065295\n"
          ],
          "name": "stdout"
        },
        {
          "output_type": "stream",
          "text": [
            "[INFO 2019-11-15 04:58:04,250 cleverhans] Epoch 66 took 3.8005270957946777 seconds\n"
          ],
          "name": "stderr"
        },
        {
          "output_type": "stream",
          "text": [
            "Testaccuracyonlegitimatetestexamples:0.7736870120652946\n"
          ],
          "name": "stdout"
        },
        {
          "output_type": "stream",
          "text": [
            "[INFO 2019-11-15 04:58:08,191 cleverhans] Epoch 67 took 3.654820203781128 seconds\n"
          ],
          "name": "stderr"
        },
        {
          "output_type": "stream",
          "text": [
            "Testaccuracyonlegitimatetestexamples:0.7755943931866572\n"
          ],
          "name": "stdout"
        },
        {
          "output_type": "stream",
          "text": [
            "[INFO 2019-11-15 04:58:12,531 cleverhans] Epoch 68 took 4.040942192077637 seconds\n"
          ],
          "name": "stderr"
        },
        {
          "output_type": "stream",
          "text": [
            "Testaccuracyonlegitimatetestexamples:0.7731103619588361\n"
          ],
          "name": "stdout"
        },
        {
          "output_type": "stream",
          "text": [
            "[INFO 2019-11-15 04:58:16,828 cleverhans] Epoch 69 took 3.973299026489258 seconds\n"
          ],
          "name": "stderr"
        },
        {
          "output_type": "stream",
          "text": [
            "Testaccuracyonlegitimatetestexamples:0.7731103619588361\n"
          ],
          "name": "stdout"
        },
        {
          "output_type": "stream",
          "text": [
            "[INFO 2019-11-15 04:58:20,999 cleverhans] Epoch 70 took 3.8494343757629395 seconds\n"
          ],
          "name": "stderr"
        },
        {
          "output_type": "stream",
          "text": [
            "Testaccuracyonlegitimatetestexamples:0.7624645138396026\n"
          ],
          "name": "stdout"
        },
        {
          "output_type": "stream",
          "text": [
            "[INFO 2019-11-15 04:58:24,958 cleverhans] Epoch 71 took 3.6502513885498047 seconds\n"
          ],
          "name": "stderr"
        },
        {
          "output_type": "stream",
          "text": [
            "Testaccuracyonlegitimatetestexamples:0.7653921220723917\n"
          ],
          "name": "stdout"
        },
        {
          "output_type": "stream",
          "text": [
            "[INFO 2019-11-15 04:58:28,912 cleverhans] Epoch 72 took 3.6636054515838623 seconds\n"
          ],
          "name": "stderr"
        },
        {
          "output_type": "stream",
          "text": [
            "Testaccuracyonlegitimatetestexamples:0.7496451383960255\n"
          ],
          "name": "stdout"
        },
        {
          "output_type": "stream",
          "text": [
            "[INFO 2019-11-15 04:58:32,949 cleverhans] Epoch 73 took 3.7312204837799072 seconds\n"
          ],
          "name": "stderr"
        },
        {
          "output_type": "stream",
          "text": [
            "Testaccuracyonlegitimatetestexamples:0.7664123491838183\n"
          ],
          "name": "stdout"
        },
        {
          "output_type": "stream",
          "text": [
            "[INFO 2019-11-15 04:58:37,111 cleverhans] Epoch 74 took 3.854367733001709 seconds\n"
          ],
          "name": "stderr"
        },
        {
          "output_type": "stream",
          "text": [
            "Testaccuracyonlegitimatetestexamples:0.7689850958126331\n"
          ],
          "name": "stdout"
        },
        {
          "output_type": "stream",
          "text": [
            "[INFO 2019-11-15 04:58:41,184 cleverhans] Epoch 75 took 3.7561519145965576 seconds\n"
          ],
          "name": "stderr"
        },
        {
          "output_type": "stream",
          "text": [
            "Testaccuracyonlegitimatetestexamples:0.7646380411639461\n"
          ],
          "name": "stdout"
        },
        {
          "output_type": "stream",
          "text": [
            "[INFO 2019-11-15 04:58:45,222 cleverhans] Epoch 76 took 3.735690116882324 seconds\n"
          ],
          "name": "stderr"
        },
        {
          "output_type": "stream",
          "text": [
            "Testaccuracyonlegitimatetestexamples:0.791208303761533\n"
          ],
          "name": "stdout"
        },
        {
          "output_type": "stream",
          "text": [
            "[INFO 2019-11-15 04:58:49,283 cleverhans] Epoch 77 took 3.7644784450531006 seconds\n"
          ],
          "name": "stderr"
        },
        {
          "output_type": "stream",
          "text": [
            "Testaccuracyonlegitimatetestexamples:0.7862402413058907\n"
          ],
          "name": "stdout"
        },
        {
          "output_type": "stream",
          "text": [
            "[INFO 2019-11-15 04:58:53,336 cleverhans] Epoch 78 took 3.738245964050293 seconds\n"
          ],
          "name": "stderr"
        },
        {
          "output_type": "stream",
          "text": [
            "Testaccuracyonlegitimatetestexamples:0.785707948899929\n"
          ],
          "name": "stdout"
        },
        {
          "output_type": "stream",
          "text": [
            "[INFO 2019-11-15 04:58:57,287 cleverhans] Epoch 79 took 3.642348051071167 seconds\n"
          ],
          "name": "stderr"
        },
        {
          "output_type": "stream",
          "text": [
            "Testaccuracyonlegitimatetestexamples:0.790542938254081\n"
          ],
          "name": "stdout"
        },
        {
          "output_type": "stream",
          "text": [
            "[INFO 2019-11-15 04:59:01,213 cleverhans] Epoch 80 took 3.632108211517334 seconds\n"
          ],
          "name": "stderr"
        },
        {
          "output_type": "stream",
          "text": [
            "Testaccuracyonlegitimatetestexamples:0.7768807665010646\n"
          ],
          "name": "stdout"
        },
        {
          "output_type": "stream",
          "text": [
            "[INFO 2019-11-15 04:59:05,168 cleverhans] Epoch 81 took 3.653536081314087 seconds\n"
          ],
          "name": "stderr"
        },
        {
          "output_type": "stream",
          "text": [
            "Testaccuracyonlegitimatetestexamples:0.7851756564939674\n"
          ],
          "name": "stdout"
        },
        {
          "output_type": "stream",
          "text": [
            "[INFO 2019-11-15 04:59:09,081 cleverhans] Epoch 82 took 3.614488124847412 seconds\n"
          ],
          "name": "stderr"
        },
        {
          "output_type": "stream",
          "text": [
            "Testaccuracyonlegitimatetestexamples:0.7817601135557133\n"
          ],
          "name": "stdout"
        },
        {
          "output_type": "stream",
          "text": [
            "[INFO 2019-11-15 04:59:13,021 cleverhans] Epoch 83 took 3.6395418643951416 seconds\n"
          ],
          "name": "stderr"
        },
        {
          "output_type": "stream",
          "text": [
            "Testaccuracyonlegitimatetestexamples:0.7843328601845281\n"
          ],
          "name": "stdout"
        },
        {
          "output_type": "stream",
          "text": [
            "[INFO 2019-11-15 04:59:17,431 cleverhans] Epoch 84 took 4.109576463699341 seconds\n"
          ],
          "name": "stderr"
        },
        {
          "output_type": "stream",
          "text": [
            "Testaccuracyonlegitimatetestexamples:0.7714691270404542\n"
          ],
          "name": "stdout"
        },
        {
          "output_type": "stream",
          "text": [
            "[INFO 2019-11-15 04:59:21,812 cleverhans] Epoch 85 took 4.029850006103516 seconds\n"
          ],
          "name": "stderr"
        },
        {
          "output_type": "stream",
          "text": [
            "Testaccuracyonlegitimatetestexamples:0.7624645138396026\n"
          ],
          "name": "stdout"
        },
        {
          "output_type": "stream",
          "text": [
            "[INFO 2019-11-15 04:59:25,844 cleverhans] Epoch 86 took 3.7581067085266113 seconds\n"
          ],
          "name": "stderr"
        },
        {
          "output_type": "stream",
          "text": [
            "Testaccuracyonlegitimatetestexamples:0.7894339957416607\n"
          ],
          "name": "stdout"
        },
        {
          "output_type": "stream",
          "text": [
            "[INFO 2019-11-15 04:59:30,028 cleverhans] Epoch 87 took 3.874093532562256 seconds\n"
          ],
          "name": "stderr"
        },
        {
          "output_type": "stream",
          "text": [
            "Testaccuracyonlegitimatetestexamples:0.7922728885734563\n"
          ],
          "name": "stdout"
        },
        {
          "output_type": "stream",
          "text": [
            "[INFO 2019-11-15 04:59:34,183 cleverhans] Epoch 88 took 3.813369035720825 seconds\n"
          ],
          "name": "stderr"
        },
        {
          "output_type": "stream",
          "text": [
            "Testaccuracyonlegitimatetestexamples:0.7922285308729595\n"
          ],
          "name": "stdout"
        },
        {
          "output_type": "stream",
          "text": [
            "[INFO 2019-11-15 04:59:38,194 cleverhans] Epoch 89 took 3.7113795280456543 seconds\n"
          ],
          "name": "stderr"
        },
        {
          "output_type": "stream",
          "text": [
            "Testaccuracyonlegitimatetestexamples:0.7856192334989354\n"
          ],
          "name": "stdout"
        },
        {
          "output_type": "stream",
          "text": [
            "[INFO 2019-11-15 04:59:42,327 cleverhans] Epoch 90 took 3.8132498264312744 seconds\n"
          ],
          "name": "stderr"
        },
        {
          "output_type": "stream",
          "text": [
            "Testaccuracyonlegitimatetestexamples:0.7714691270404542\n"
          ],
          "name": "stdout"
        },
        {
          "output_type": "stream",
          "text": [
            "[INFO 2019-11-15 04:59:46,319 cleverhans] Epoch 91 took 3.6889829635620117 seconds\n"
          ],
          "name": "stderr"
        },
        {
          "output_type": "stream",
          "text": [
            "Testaccuracyonlegitimatetestexamples:0.7876153300212917\n"
          ],
          "name": "stdout"
        },
        {
          "output_type": "stream",
          "text": [
            "[INFO 2019-11-15 04:59:50,442 cleverhans] Epoch 92 took 3.839134931564331 seconds\n"
          ],
          "name": "stderr"
        },
        {
          "output_type": "stream",
          "text": [
            "Testaccuracyonlegitimatetestexamples:0.7816270404542228\n"
          ],
          "name": "stdout"
        },
        {
          "output_type": "stream",
          "text": [
            "[INFO 2019-11-15 04:59:54,604 cleverhans] Epoch 93 took 3.8487091064453125 seconds\n"
          ],
          "name": "stderr"
        },
        {
          "output_type": "stream",
          "text": [
            "Testaccuracyonlegitimatetestexamples:0.7787881476224272\n"
          ],
          "name": "stdout"
        },
        {
          "output_type": "stream",
          "text": [
            "[INFO 2019-11-15 04:59:58,700 cleverhans] Epoch 94 took 3.748349189758301 seconds\n"
          ],
          "name": "stderr"
        },
        {
          "output_type": "stream",
          "text": [
            "Testaccuracyonlegitimatetestexamples:0.7849095102909865\n"
          ],
          "name": "stdout"
        },
        {
          "output_type": "stream",
          "text": [
            "[INFO 2019-11-15 05:00:02,697 cleverhans] Epoch 95 took 3.6972696781158447 seconds\n"
          ],
          "name": "stderr"
        },
        {
          "output_type": "stream",
          "text": [
            "Testaccuracyonlegitimatetestexamples:0.7722232079489\n"
          ],
          "name": "stdout"
        },
        {
          "output_type": "stream",
          "text": [
            "[INFO 2019-11-15 05:00:06,793 cleverhans] Epoch 96 took 3.780280828475952 seconds\n"
          ],
          "name": "stderr"
        },
        {
          "output_type": "stream",
          "text": [
            "Testaccuracyonlegitimatetestexamples:0.7774574166075231\n"
          ],
          "name": "stdout"
        },
        {
          "output_type": "stream",
          "text": [
            "[INFO 2019-11-15 05:00:11,089 cleverhans] Epoch 97 took 3.981994867324829 seconds\n"
          ],
          "name": "stderr"
        },
        {
          "output_type": "stream",
          "text": [
            "Testaccuracyonlegitimatetestexamples:0.7789212207239177\n"
          ],
          "name": "stdout"
        },
        {
          "output_type": "stream",
          "text": [
            "[INFO 2019-11-15 05:00:15,157 cleverhans] Epoch 98 took 3.760026454925537 seconds\n"
          ],
          "name": "stderr"
        },
        {
          "output_type": "stream",
          "text": [
            "Testaccuracyonlegitimatetestexamples:0.7718683463449255\n"
          ],
          "name": "stdout"
        },
        {
          "output_type": "stream",
          "text": [
            "[INFO 2019-11-15 05:00:19,154 cleverhans] Epoch 99 took 3.698453664779663 seconds\n"
          ],
          "name": "stderr"
        },
        {
          "output_type": "stream",
          "text": [
            "Testaccuracyonlegitimatetestexamples:0.785486160397445\n"
          ],
          "name": "stdout"
        },
        {
          "output_type": "stream",
          "text": [
            "[INFO 2019-11-15 05:00:23,144 cleverhans] Epoch 100 took 3.6706433296203613 seconds\n"
          ],
          "name": "stderr"
        },
        {
          "output_type": "stream",
          "text": [
            "Testaccuracyonlegitimatetestexamples:0.7892565649396736\n"
          ],
          "name": "stdout"
        },
        {
          "output_type": "stream",
          "text": [
            "[INFO 2019-11-15 05:00:27,394 cleverhans] Epoch 101 took 3.938314914703369 seconds\n"
          ],
          "name": "stderr"
        },
        {
          "output_type": "stream",
          "text": [
            "Testaccuracyonlegitimatetestexamples:0.7705376153300213\n"
          ],
          "name": "stdout"
        },
        {
          "output_type": "stream",
          "text": [
            "[INFO 2019-11-15 05:00:31,726 cleverhans] Epoch 102 took 4.021212816238403 seconds\n"
          ],
          "name": "stderr"
        },
        {
          "output_type": "stream",
          "text": [
            "Testaccuracyonlegitimatetestexamples:0.7638839602555003\n"
          ],
          "name": "stdout"
        },
        {
          "output_type": "stream",
          "text": [
            "[INFO 2019-11-15 05:00:35,907 cleverhans] Epoch 103 took 3.8445281982421875 seconds\n"
          ],
          "name": "stderr"
        },
        {
          "output_type": "stream",
          "text": [
            "Testaccuracyonlegitimatetestexamples:0.7589602555003548\n"
          ],
          "name": "stdout"
        },
        {
          "output_type": "stream",
          "text": [
            "[INFO 2019-11-15 05:00:39,897 cleverhans] Epoch 104 took 3.685807466506958 seconds\n"
          ],
          "name": "stderr"
        },
        {
          "output_type": "stream",
          "text": [
            "Testaccuracyonlegitimatetestexamples:0.7721344925479063\n"
          ],
          "name": "stdout"
        },
        {
          "output_type": "stream",
          "text": [
            "[INFO 2019-11-15 05:00:43,964 cleverhans] Epoch 105 took 3.7540364265441895 seconds\n"
          ],
          "name": "stderr"
        },
        {
          "output_type": "stream",
          "text": [
            "Testaccuracyonlegitimatetestexamples:0.7677430801987225\n"
          ],
          "name": "stdout"
        },
        {
          "output_type": "stream",
          "text": [
            "[INFO 2019-11-15 05:00:47,916 cleverhans] Epoch 106 took 3.639349937438965 seconds\n"
          ],
          "name": "stderr"
        },
        {
          "output_type": "stream",
          "text": [
            "Testaccuracyonlegitimatetestexamples:0.7594481902058198\n"
          ],
          "name": "stdout"
        },
        {
          "output_type": "stream",
          "text": [
            "[INFO 2019-11-15 05:00:51,999 cleverhans] Epoch 107 took 3.7771458625793457 seconds\n"
          ],
          "name": "stderr"
        },
        {
          "output_type": "stream",
          "text": [
            "Testaccuracyonlegitimatetestexamples:0.7786550745209369\n"
          ],
          "name": "stdout"
        },
        {
          "output_type": "stream",
          "text": [
            "[INFO 2019-11-15 05:00:55,954 cleverhans] Epoch 108 took 3.651366710662842 seconds\n"
          ],
          "name": "stderr"
        },
        {
          "output_type": "stream",
          "text": [
            "Testaccuracyonlegitimatetestexamples:0.759403832505323\n"
          ],
          "name": "stdout"
        },
        {
          "output_type": "stream",
          "text": [
            "[INFO 2019-11-15 05:01:00,009 cleverhans] Epoch 109 took 3.7626090049743652 seconds\n"
          ],
          "name": "stderr"
        },
        {
          "output_type": "stream",
          "text": [
            "Testaccuracyonlegitimatetestexamples:0.778832505322924\n"
          ],
          "name": "stdout"
        },
        {
          "output_type": "stream",
          "text": [
            "[INFO 2019-11-15 05:01:04,074 cleverhans] Epoch 110 took 3.764112949371338 seconds\n"
          ],
          "name": "stderr"
        },
        {
          "output_type": "stream",
          "text": [
            "Testaccuracyonlegitimatetestexamples:0.7606902058197303\n"
          ],
          "name": "stdout"
        },
        {
          "output_type": "stream",
          "text": [
            "[INFO 2019-11-15 05:01:08,121 cleverhans] Epoch 111 took 3.730670690536499 seconds\n"
          ],
          "name": "stderr"
        },
        {
          "output_type": "stream",
          "text": [
            "Testaccuracyonlegitimatetestexamples:0.7659687721788503\n"
          ],
          "name": "stdout"
        },
        {
          "output_type": "stream",
          "text": [
            "[INFO 2019-11-15 05:01:12,104 cleverhans] Epoch 112 took 3.6891136169433594 seconds\n"
          ],
          "name": "stderr"
        },
        {
          "output_type": "stream",
          "text": [
            "Testaccuracyonlegitimatetestexamples:0.7714247693399574\n"
          ],
          "name": "stdout"
        },
        {
          "output_type": "stream",
          "text": [
            "[INFO 2019-11-15 05:01:16,096 cleverhans] Epoch 113 took 3.6854331493377686 seconds\n"
          ],
          "name": "stderr"
        },
        {
          "output_type": "stream",
          "text": [
            "Testaccuracyonlegitimatetestexamples:0.7850425833924769\n"
          ],
          "name": "stdout"
        },
        {
          "output_type": "stream",
          "text": [
            "[INFO 2019-11-15 05:01:20,151 cleverhans] Epoch 114 took 3.742062568664551 seconds\n"
          ],
          "name": "stderr"
        },
        {
          "output_type": "stream",
          "text": [
            "Testaccuracyonlegitimatetestexamples:0.7683640880056778\n"
          ],
          "name": "stdout"
        },
        {
          "output_type": "stream",
          "text": [
            "[INFO 2019-11-15 05:01:24,163 cleverhans] Epoch 115 took 3.7138075828552246 seconds\n"
          ],
          "name": "stderr"
        },
        {
          "output_type": "stream",
          "text": [
            "Testaccuracyonlegitimatetestexamples:0.7661462029808375\n"
          ],
          "name": "stdout"
        },
        {
          "output_type": "stream",
          "text": [
            "[INFO 2019-11-15 05:01:28,166 cleverhans] Epoch 116 took 3.7018744945526123 seconds\n"
          ],
          "name": "stderr"
        },
        {
          "output_type": "stream",
          "text": [
            "Testaccuracyonlegitimatetestexamples:0.77013839602555\n"
          ],
          "name": "stdout"
        },
        {
          "output_type": "stream",
          "text": [
            "[INFO 2019-11-15 05:01:32,182 cleverhans] Epoch 117 took 3.733288288116455 seconds\n"
          ],
          "name": "stderr"
        },
        {
          "output_type": "stream",
          "text": [
            "Testaccuracyonlegitimatetestexamples:0.7670333569907736\n"
          ],
          "name": "stdout"
        },
        {
          "output_type": "stream",
          "text": [
            "[INFO 2019-11-15 05:01:36,215 cleverhans] Epoch 118 took 3.7466726303100586 seconds\n"
          ],
          "name": "stderr"
        },
        {
          "output_type": "stream",
          "text": [
            "Testaccuracyonlegitimatetestexamples:0.7688963804116394\n"
          ],
          "name": "stdout"
        },
        {
          "output_type": "stream",
          "text": [
            "[INFO 2019-11-15 05:01:40,245 cleverhans] Epoch 119 took 3.7304933071136475 seconds\n",
            "[INFO 2019-11-15 05:01:40,524 cleverhans] Completed model training.\n"
          ],
          "name": "stderr"
        },
        {
          "output_type": "stream",
          "text": [
            "Testaccuracyonlegitimatetestexamples:0.7621096522356281\n"
          ],
          "name": "stdout"
        },
        {
          "output_type": "execute_result",
          "data": {
            "text/plain": [
              "True"
            ]
          },
          "metadata": {
            "tags": []
          },
          "execution_count": 45
        }
      ]
    },
    {
      "cell_type": "code",
      "metadata": {
        "id": "A22lIMNZ_I9D",
        "colab_type": "code",
        "colab": {}
      },
      "source": [
        "\n",
        "\n",
        "source_samples=X_test_scaled.shape[0]"
      ],
      "execution_count": 0,
      "outputs": []
    },
    {
      "cell_type": "code",
      "metadata": {
        "id": "RAc6s1-zCEFP",
        "colab_type": "code",
        "colab": {}
      },
      "source": [
        "results=np.zeros((FLAGS.nb_classes,source_samples),dtype='i')\n",
        "perturbations=np.zeros((FLAGS.nb_classes,source_samples),dtype='f')\n",
        "grads=jacobian_graph(predictions,x,FLAGS.nb_classes)"
      ],
      "execution_count": 0,
      "outputs": []
    },
    {
      "cell_type": "code",
      "metadata": {
        "id": "ZUCMH4pgCF0J",
        "colab_type": "code",
        "colab": {}
      },
      "source": [
        "X_adv=np.zeros((source_samples,X_test_scaled.shape[1]))"
      ],
      "execution_count": 0,
      "outputs": []
    },
    {
      "cell_type": "code",
      "metadata": {
        "id": "8oAAKFXKCHq7",
        "colab_type": "code",
        "colab": {}
      },
      "source": [
        "#pip install statlib"
      ],
      "execution_count": 0,
      "outputs": []
    },
    {
      "cell_type": "code",
      "metadata": {
        "id": "A7XczpFGCK9G",
        "colab_type": "code",
        "colab": {}
      },
      "source": [
        "jsma = SaliencyMapMethod(cleverhans.model.Model(model), sess=sess)"
      ],
      "execution_count": 0,
      "outputs": []
    },
    {
      "cell_type": "code",
      "metadata": {
        "id": "oERsKxGoCXym",
        "colab_type": "code",
        "outputId": "63a04fa1-12b6-4a30-cb31-6d97e62e3869",
        "colab": {
          "base_uri": "https://localhost:8080/",
          "height": 34
        }
      },
      "source": [
        "print(X_adv.shape)"
      ],
      "execution_count": 51,
      "outputs": [
        {
          "output_type": "stream",
          "text": [
            "(22544, 122)\n"
          ],
          "name": "stdout"
        }
      ]
    },
    {
      "cell_type": "code",
      "metadata": {
        "id": "lC_mhlkZUKcx",
        "colab_type": "code",
        "colab": {}
      },
      "source": [
        "eval_params={'batch_size':FLAGS.batch_size}"
      ],
      "execution_count": 0,
      "outputs": []
    },
    {
      "cell_type": "code",
      "metadata": {
        "id": "WAAdKm14UMH4",
        "colab_type": "code",
        "colab": {}
      },
      "source": [
        "jsma_params = {'theta': 1., 'gamma': 0.1, 'clip_min': 0., 'clip_max': 1.,'y_target': None}\n",
        "\n",
        "figure = None\n",
        "# Keep track of success (adversarial example classified in target)\n",
        "results = np.zeros((FLAGS.nb_classes, source_samples), dtype='i')\n",
        "\n",
        "  # Rate of perturbed features for each test set example and target class\n",
        "perturbations = np.zeros((FLAGS.nb_classes, source_samples), dtype='f')\n",
        "\n",
        " \n"
      ],
      "execution_count": 0,
      "outputs": []
    },
    {
      "cell_type": "code",
      "metadata": {
        "id": "PQnCK6CyjdPI",
        "colab_type": "code",
        "colab": {}
      },
      "source": [
        ""
      ],
      "execution_count": 0,
      "outputs": []
    },
    {
      "cell_type": "code",
      "metadata": {
        "id": "D0r9BhQsUP-J",
        "colab_type": "code",
        "outputId": "9a509623-0f09-46fa-d3e5-d3883e5f6322",
        "colab": {
          "base_uri": "https://localhost:8080/",
          "height": 34
        }
      },
      "source": [
        "accuracy=model_eval(sess,x,y,predictions,X_test_scaled,y_test,args=eval_params)\n",
        "print('Test accuracy on normal examples:'+str(accuracy))"
      ],
      "execution_count": 54,
      "outputs": [
        {
          "output_type": "stream",
          "text": [
            "Test accuracy on normal examples:0.7621096522356281\n"
          ],
          "name": "stdout"
        }
      ]
    },
    {
      "cell_type": "code",
      "metadata": {
        "id": "rjnpOg0Ojfgd",
        "colab_type": "code",
        "colab": {
          "base_uri": "https://localhost:8080/",
          "height": 387
        },
        "outputId": "7d4cc85b-fd54-4ddd-90dd-07008b9e80af"
      },
      "source": [
        "for sample_ind in range(0,source_samples):\n",
        "    current_class =int(np.argmax(y_test[sample_ind]))\n",
        "    for target in [0]: \n",
        "        adv_x,res,percent_perturb=jsma.generate_np(sess,x)\n",
        "\n",
        "        X_adv[sample_ind]=adv_x\n",
        "        results[target,sample_ind]=res\n",
        "        perturbations[target,sample_ind]=percent_perturb\n",
        "        "
      ],
      "execution_count": 58,
      "outputs": [
        {
          "output_type": "stream",
          "text": [
            "[INFO 2019-11-15 05:08:36,949 cleverhans] Constructing new graph for attack SaliencyMapMethod\n"
          ],
          "name": "stderr"
        },
        {
          "output_type": "error",
          "ename": "NotImplementedError",
          "evalue": "ignored",
          "traceback": [
            "\u001b[0;31m---------------------------------------------------------------------------\u001b[0m",
            "\u001b[0;31mNotImplementedError\u001b[0m                       Traceback (most recent call last)",
            "\u001b[0;32m<ipython-input-58-ff4dc4128e06>\u001b[0m in \u001b[0;36m<module>\u001b[0;34m()\u001b[0m\n\u001b[1;32m      2\u001b[0m     \u001b[0mcurrent_class\u001b[0m \u001b[0;34m=\u001b[0m\u001b[0mint\u001b[0m\u001b[0;34m(\u001b[0m\u001b[0mnp\u001b[0m\u001b[0;34m.\u001b[0m\u001b[0margmax\u001b[0m\u001b[0;34m(\u001b[0m\u001b[0my_test\u001b[0m\u001b[0;34m[\u001b[0m\u001b[0msample_ind\u001b[0m\u001b[0;34m]\u001b[0m\u001b[0;34m)\u001b[0m\u001b[0;34m)\u001b[0m\u001b[0;34m\u001b[0m\u001b[0;34m\u001b[0m\u001b[0m\n\u001b[1;32m      3\u001b[0m     \u001b[0;32mfor\u001b[0m \u001b[0mtarget\u001b[0m \u001b[0;32min\u001b[0m \u001b[0;34m[\u001b[0m\u001b[0;36m0\u001b[0m\u001b[0;34m]\u001b[0m\u001b[0;34m:\u001b[0m\u001b[0;34m\u001b[0m\u001b[0;34m\u001b[0m\u001b[0m\n\u001b[0;32m----> 4\u001b[0;31m         \u001b[0madv_x\u001b[0m\u001b[0;34m,\u001b[0m\u001b[0mres\u001b[0m\u001b[0;34m,\u001b[0m\u001b[0mpercent_perturb\u001b[0m\u001b[0;34m=\u001b[0m\u001b[0mjsma\u001b[0m\u001b[0;34m.\u001b[0m\u001b[0mgenerate_np\u001b[0m\u001b[0;34m(\u001b[0m\u001b[0mx\u001b[0m\u001b[0;34m)\u001b[0m\u001b[0;34m\u001b[0m\u001b[0;34m\u001b[0m\u001b[0m\n\u001b[0m\u001b[1;32m      5\u001b[0m \u001b[0;34m\u001b[0m\u001b[0m\n\u001b[1;32m      6\u001b[0m         \u001b[0mX_adv\u001b[0m\u001b[0;34m[\u001b[0m\u001b[0msample_ind\u001b[0m\u001b[0;34m]\u001b[0m\u001b[0;34m=\u001b[0m\u001b[0madv_x\u001b[0m\u001b[0;34m\u001b[0m\u001b[0;34m\u001b[0m\u001b[0m\n",
            "\u001b[0;32m/content/src/cleverhans/cleverhans/attacks/attack.py\u001b[0m in \u001b[0;36mgenerate_np\u001b[0;34m(self, x_val, **kwargs)\u001b[0m\n\u001b[1;32m    184\u001b[0m \u001b[0;34m\u001b[0m\u001b[0m\n\u001b[1;32m    185\u001b[0m     \u001b[0;32mif\u001b[0m \u001b[0mhash_key\u001b[0m \u001b[0;32mnot\u001b[0m \u001b[0;32min\u001b[0m \u001b[0mself\u001b[0m\u001b[0;34m.\u001b[0m\u001b[0mgraphs\u001b[0m\u001b[0;34m:\u001b[0m\u001b[0;34m\u001b[0m\u001b[0;34m\u001b[0m\u001b[0m\n\u001b[0;32m--> 186\u001b[0;31m       \u001b[0mself\u001b[0m\u001b[0;34m.\u001b[0m\u001b[0mconstruct_graph\u001b[0m\u001b[0;34m(\u001b[0m\u001b[0mfixed\u001b[0m\u001b[0;34m,\u001b[0m \u001b[0mfeedable\u001b[0m\u001b[0;34m,\u001b[0m \u001b[0mx_val\u001b[0m\u001b[0;34m,\u001b[0m \u001b[0mhash_key\u001b[0m\u001b[0;34m)\u001b[0m\u001b[0;34m\u001b[0m\u001b[0;34m\u001b[0m\u001b[0m\n\u001b[0m\u001b[1;32m    187\u001b[0m     \u001b[0;32melse\u001b[0m\u001b[0;34m:\u001b[0m\u001b[0;34m\u001b[0m\u001b[0;34m\u001b[0m\u001b[0m\n\u001b[1;32m    188\u001b[0m       \u001b[0;31m# remove the None arguments, they are just left blank\u001b[0m\u001b[0;34m\u001b[0m\u001b[0;34m\u001b[0m\u001b[0;34m\u001b[0m\u001b[0m\n",
            "\u001b[0;32m/content/src/cleverhans/cleverhans/attacks/attack.py\u001b[0m in \u001b[0;36mconstruct_graph\u001b[0;34m(self, fixed, feedable, x_val, hash_key)\u001b[0m\n\u001b[1;32m    156\u001b[0m \u001b[0;34m\u001b[0m\u001b[0m\n\u001b[1;32m    157\u001b[0m     \u001b[0;31m# now we generate the graph that we want\u001b[0m\u001b[0;34m\u001b[0m\u001b[0;34m\u001b[0m\u001b[0;34m\u001b[0m\u001b[0m\n\u001b[0;32m--> 158\u001b[0;31m     \u001b[0mx_adv\u001b[0m \u001b[0;34m=\u001b[0m \u001b[0mself\u001b[0m\u001b[0;34m.\u001b[0m\u001b[0mgenerate\u001b[0m\u001b[0;34m(\u001b[0m\u001b[0mx\u001b[0m\u001b[0;34m,\u001b[0m \u001b[0;34m**\u001b[0m\u001b[0mnew_kwargs\u001b[0m\u001b[0;34m)\u001b[0m\u001b[0;34m\u001b[0m\u001b[0;34m\u001b[0m\u001b[0m\n\u001b[0m\u001b[1;32m    159\u001b[0m \u001b[0;34m\u001b[0m\u001b[0m\n\u001b[1;32m    160\u001b[0m     \u001b[0mself\u001b[0m\u001b[0;34m.\u001b[0m\u001b[0mgraphs\u001b[0m\u001b[0;34m[\u001b[0m\u001b[0mhash_key\u001b[0m\u001b[0;34m]\u001b[0m \u001b[0;34m=\u001b[0m \u001b[0;34m(\u001b[0m\u001b[0mx\u001b[0m\u001b[0;34m,\u001b[0m \u001b[0mnew_kwargs\u001b[0m\u001b[0;34m,\u001b[0m \u001b[0mx_adv\u001b[0m\u001b[0;34m)\u001b[0m\u001b[0;34m\u001b[0m\u001b[0;34m\u001b[0m\u001b[0m\n",
            "\u001b[0;32m/content/src/cleverhans/cleverhans/attacks/saliency_map_method.py\u001b[0m in \u001b[0;36mgenerate\u001b[0;34m(self, x, **kwargs)\u001b[0m\n\u001b[1;32m     68\u001b[0m           \u001b[0;32mreturn\u001b[0m \u001b[0mresult\u001b[0m\u001b[0;34m\u001b[0m\u001b[0;34m\u001b[0m\u001b[0m\n\u001b[1;32m     69\u001b[0m \u001b[0;34m\u001b[0m\u001b[0m\n\u001b[0;32m---> 70\u001b[0;31m         \u001b[0mlabels\u001b[0m\u001b[0;34m,\u001b[0m \u001b[0mnb_classes\u001b[0m \u001b[0;34m=\u001b[0m \u001b[0mself\u001b[0m\u001b[0;34m.\u001b[0m\u001b[0mget_or_guess_labels\u001b[0m\u001b[0;34m(\u001b[0m\u001b[0mx\u001b[0m\u001b[0;34m,\u001b[0m \u001b[0mkwargs\u001b[0m\u001b[0;34m)\u001b[0m\u001b[0;34m\u001b[0m\u001b[0;34m\u001b[0m\u001b[0m\n\u001b[0m\u001b[1;32m     71\u001b[0m         self.y_target = tf.py_func(random_targets, [labels],\n\u001b[1;32m     72\u001b[0m                                    self.tf_dtype)\n",
            "\u001b[0;32m/content/src/cleverhans/cleverhans/attacks/attack.py\u001b[0m in \u001b[0;36mget_or_guess_labels\u001b[0;34m(self, x, kwargs)\u001b[0m\n\u001b[1;32m    276\u001b[0m       \u001b[0mlabels\u001b[0m \u001b[0;34m=\u001b[0m \u001b[0mkwargs\u001b[0m\u001b[0;34m[\u001b[0m\u001b[0;34m'y_target'\u001b[0m\u001b[0;34m]\u001b[0m\u001b[0;34m\u001b[0m\u001b[0;34m\u001b[0m\u001b[0m\n\u001b[1;32m    277\u001b[0m     \u001b[0;32melse\u001b[0m\u001b[0;34m:\u001b[0m\u001b[0;34m\u001b[0m\u001b[0;34m\u001b[0m\u001b[0m\n\u001b[0;32m--> 278\u001b[0;31m       \u001b[0mpreds\u001b[0m \u001b[0;34m=\u001b[0m \u001b[0mself\u001b[0m\u001b[0;34m.\u001b[0m\u001b[0mmodel\u001b[0m\u001b[0;34m.\u001b[0m\u001b[0mget_probs\u001b[0m\u001b[0;34m(\u001b[0m\u001b[0mx\u001b[0m\u001b[0;34m)\u001b[0m\u001b[0;34m\u001b[0m\u001b[0;34m\u001b[0m\u001b[0m\n\u001b[0m\u001b[1;32m    279\u001b[0m       \u001b[0mpreds_max\u001b[0m \u001b[0;34m=\u001b[0m \u001b[0mreduce_max\u001b[0m\u001b[0;34m(\u001b[0m\u001b[0mpreds\u001b[0m\u001b[0;34m,\u001b[0m \u001b[0;36m1\u001b[0m\u001b[0;34m,\u001b[0m \u001b[0mkeepdims\u001b[0m\u001b[0;34m=\u001b[0m\u001b[0;32mTrue\u001b[0m\u001b[0;34m)\u001b[0m\u001b[0;34m\u001b[0m\u001b[0;34m\u001b[0m\u001b[0m\n\u001b[1;32m    280\u001b[0m       \u001b[0moriginal_predictions\u001b[0m \u001b[0;34m=\u001b[0m \u001b[0mtf\u001b[0m\u001b[0;34m.\u001b[0m\u001b[0mto_float\u001b[0m\u001b[0;34m(\u001b[0m\u001b[0mtf\u001b[0m\u001b[0;34m.\u001b[0m\u001b[0mequal\u001b[0m\u001b[0;34m(\u001b[0m\u001b[0mpreds\u001b[0m\u001b[0;34m,\u001b[0m \u001b[0mpreds_max\u001b[0m\u001b[0;34m)\u001b[0m\u001b[0;34m)\u001b[0m\u001b[0;34m\u001b[0m\u001b[0;34m\u001b[0m\u001b[0m\n",
            "\u001b[0;32m/content/src/cleverhans/cleverhans/model.py\u001b[0m in \u001b[0;36mget_probs\u001b[0;34m(self, x, **kwargs)\u001b[0m\n\u001b[1;32m     83\u001b[0m     \u001b[0mprobabilities\u001b[0m \u001b[0;34m(\u001b[0m\u001b[0mi\u001b[0m\u001b[0;34m.\u001b[0m\u001b[0me\u001b[0m\u001b[0;34m.\u001b[0m\u001b[0;34m,\u001b[0m \u001b[0mthe\u001b[0m \u001b[0moutput\u001b[0m \u001b[0mvalues\u001b[0m \u001b[0mproduced\u001b[0m \u001b[0mby\u001b[0m \u001b[0mthe\u001b[0m \u001b[0msoftmax\u001b[0m \u001b[0mlayer\u001b[0m\u001b[0;34m)\u001b[0m\u001b[0;34m.\u001b[0m\u001b[0;34m\u001b[0m\u001b[0;34m\u001b[0m\u001b[0m\n\u001b[1;32m     84\u001b[0m     \"\"\"\n\u001b[0;32m---> 85\u001b[0;31m     \u001b[0md\u001b[0m \u001b[0;34m=\u001b[0m \u001b[0mself\u001b[0m\u001b[0;34m.\u001b[0m\u001b[0mfprop\u001b[0m\u001b[0;34m(\u001b[0m\u001b[0mx\u001b[0m\u001b[0;34m,\u001b[0m \u001b[0;34m**\u001b[0m\u001b[0mkwargs\u001b[0m\u001b[0;34m)\u001b[0m\u001b[0;34m\u001b[0m\u001b[0;34m\u001b[0m\u001b[0m\n\u001b[0m\u001b[1;32m     86\u001b[0m     \u001b[0;32mif\u001b[0m \u001b[0mself\u001b[0m\u001b[0;34m.\u001b[0m\u001b[0mO_PROBS\u001b[0m \u001b[0;32min\u001b[0m \u001b[0md\u001b[0m\u001b[0;34m:\u001b[0m\u001b[0;34m\u001b[0m\u001b[0;34m\u001b[0m\u001b[0m\n\u001b[1;32m     87\u001b[0m       \u001b[0moutput\u001b[0m \u001b[0;34m=\u001b[0m \u001b[0md\u001b[0m\u001b[0;34m[\u001b[0m\u001b[0mself\u001b[0m\u001b[0;34m.\u001b[0m\u001b[0mO_PROBS\u001b[0m\u001b[0;34m]\u001b[0m\u001b[0;34m\u001b[0m\u001b[0;34m\u001b[0m\u001b[0m\n",
            "\u001b[0;32m/content/src/cleverhans/cleverhans/model.py\u001b[0m in \u001b[0;36mfprop\u001b[0;34m(self, x, **kwargs)\u001b[0m\n\u001b[1;32m    107\u001b[0m              \u001b[0mrepresentation\u001b[0m \u001b[0mof\u001b[0m \u001b[0mtheir\u001b[0m \u001b[0moutput\u001b[0m\u001b[0;34m.\u001b[0m\u001b[0;34m\u001b[0m\u001b[0;34m\u001b[0m\u001b[0m\n\u001b[1;32m    108\u001b[0m     \"\"\"\n\u001b[0;32m--> 109\u001b[0;31m     \u001b[0;32mraise\u001b[0m \u001b[0mNotImplementedError\u001b[0m\u001b[0;34m(\u001b[0m\u001b[0;34m'`fprop` not implemented.'\u001b[0m\u001b[0;34m)\u001b[0m\u001b[0;34m\u001b[0m\u001b[0;34m\u001b[0m\u001b[0m\n\u001b[0m\u001b[1;32m    110\u001b[0m \u001b[0;34m\u001b[0m\u001b[0m\n\u001b[1;32m    111\u001b[0m   \u001b[0;32mdef\u001b[0m \u001b[0mget_params\u001b[0m\u001b[0;34m(\u001b[0m\u001b[0mself\u001b[0m\u001b[0;34m)\u001b[0m\u001b[0;34m:\u001b[0m\u001b[0;34m\u001b[0m\u001b[0;34m\u001b[0m\u001b[0m\n",
            "\u001b[0;31mNotImplementedError\u001b[0m: `fprop` not implemented."
          ]
        }
      ]
    },
    {
      "cell_type": "code",
      "metadata": {
        "id": "4hF4oiy5URqA",
        "colab_type": "code",
        "colab": {}
      },
      "source": [
        "#Decision Tree\n",
        "dt=OneVsRestClassifier(DecisionTreeClassifier(random_state=42))\n",
        "dt.fit(X_train_scaled,y_train)\n",
        "y_pred=dt.predict(X_test_scaled)"
      ],
      "execution_count": 0,
      "outputs": []
    },
    {
      "cell_type": "code",
      "metadata": {
        "id": "_J4A9mcqUqUp",
        "colab_type": "code",
        "outputId": "09086ecc-f6b7-40b8-b293-3b07b08cba15",
        "colab": {
          "base_uri": "https://localhost:8080/",
          "height": 50
        }
      },
      "source": [
        "fpr_dt,tpr_dt,_=roc_curve(y_test[:,0],y_pred[:,0])\n",
        "roc_auc_dt=auc(fpr_dt,tpr_dt)\n",
        "print(\"Accuracyscore:\",accuracy_score(y_test,y_pred))\n",
        "print(\"F1score:\",f1_score(y_test,y_pred,average='micro'))\n"
      ],
      "execution_count": 60,
      "outputs": [
        {
          "output_type": "stream",
          "text": [
            "Accuracyscore: 0.7317246273953159\n",
            "F1score: 0.7558596396152282\n"
          ],
          "name": "stdout"
        }
      ]
    },
    {
      "cell_type": "code",
      "metadata": {
        "id": "6pJy5mcqUroC",
        "colab_type": "code",
        "outputId": "3f43e596-58d0-4bdd-dc41-8facee73cb18",
        "colab": {
          "base_uri": "https://localhost:8080/",
          "height": 67
        }
      },
      "source": [
        "y_pred_adv=dt.predict(X_adv)\n",
        "fpr_dt_adv,tpr_dt_adv,_=roc_curve(y_test[:,0],y_pred_adv[:,0])\n",
        "roc_auc_dt_adv=auc(fpr_dt_adv,tpr_dt_adv)\n",
        "print(\"Accuracyscoreadversarial:\",accuracy_score(y_test,y_pred_adv))\n",
        "print(\"F1scoreadversarial:\",f1_score(y_test,y_pred_adv,average='micro'))\n",
        "print(\"AUCscoreadversarial:\",roc_auc_dt_adv)\n"
      ],
      "execution_count": 61,
      "outputs": [
        {
          "output_type": "stream",
          "text": [
            "Accuracyscoreadversarial: 0.43075762952448543\n",
            "F1scoreadversarial: 0.43075762952448543\n",
            "AUCscoreadversarial: 0.5\n"
          ],
          "name": "stdout"
        }
      ]
    },
    {
      "cell_type": "code",
      "metadata": {
        "id": "0rM1cXE4cvPz",
        "colab_type": "code",
        "outputId": "0cb6d180-58a6-474e-dccf-a793fa509d8f",
        "colab": {
          "base_uri": "https://localhost:8080/",
          "height": 296
        }
      },
      "source": [
        "plt.figure()\n",
        "lw=2\n",
        "plt.plot(fpr_dt,tpr_dt,color='darkorange',\n",
        "lw=lw,label='ROCcurve(area=%0.2f)'%roc_auc_dt)\n",
        "plt.plot(fpr_dt_adv,tpr_dt_adv,color='green',lw=lw,label='ROCcurveadv.(area=%0.2f)'%roc_auc_dt_adv)\n",
        "plt.plot([0,1],[0,1],color='navy',lw=lw,linestyle='--')\n",
        "plt.xlim([0.0,1.0])\n",
        "plt.ylim([0.0,1.05])\n",
        "plt.xlabel('FalsePositiveRate')\n",
        "plt.ylabel('TruePositiveRate')\n",
        "plt.title('ROCDecisionTree(class=Normal)')\n",
        "plt.legend(loc=\"lower right\")\n",
        "plt.savefig('ROC_DT.png')\n"
      ],
      "execution_count": 62,
      "outputs": [
        {
          "output_type": "display_data",
          "data": {
            "image/png": "[encoded data removed]",
            "text/plain": [
              "<Figure size 432x288 with 1 Axes>"
            ]
          },
          "metadata": {
            "tags": []
          }
        }
      ]
    },
    {
      "cell_type": "code",
      "metadata": {
        "id": "gys3Ry9XUtRF",
        "colab_type": "code",
        "outputId": "3881c593-691d-4d83-f44a-ac03e503c173",
        "colab": {
          "base_uri": "https://localhost:8080/",
          "height": 67
        }
      },
      "source": [
        "#Random Forest\n",
        "rf=OneVsRestClassifier(RandomForestClassifier(n_estimators=200,random_state=42))\n",
        "rf.fit(X_train_scaled,y_train)\n",
        "y_pred=rf.predict(X_test_scaled)\n",
        "fpr_rf,tpr_rf,_=roc_curve(y_test[:,0],y_pred[:,0])\n",
        "roc_auc_rf=auc(fpr_rf,tpr_rf)\n",
        "print(\"Accuracyscore:\",accuracy_score(y_test,y_pred))\n",
        "print(\"F1score:\",f1_score(y_test,y_pred,average='micro'))\n",
        "print(\"AUCscore:\",roc_auc_rf)\n"
      ],
      "execution_count": 63,
      "outputs": [
        {
          "output_type": "stream",
          "text": [
            "Accuracyscore: 0.7396646557842441\n",
            "F1score: 0.7549139216483665\n",
            "AUCscore: 0.8075476855021121\n"
          ],
          "name": "stdout"
        }
      ]
    },
    {
      "cell_type": "code",
      "metadata": {
        "id": "2266kasQUzTH",
        "colab_type": "code",
        "outputId": "717883cf-4be1-4678-95ca-72259c6a1da5",
        "colab": {
          "base_uri": "https://localhost:8080/",
          "height": 67
        }
      },
      "source": [
        "\n",
        "y_pred_adv=rf.predict(X_adv)\n",
        "fpr_rf_adv,tpr_rf_adv,_=roc_curve(y_test[:,0],y_pred_adv[:,0])\n",
        "roc_auc_rf_adv=auc(fpr_rf_adv,tpr_rf_adv)\n",
        "print(\"Accuracyscoreadversarial:\",accuracy_score(y_test,y_pred_adv))\n",
        "print(\"F1scoreadversarial:\",f1_score(y_test,y_pred_adv,average='micro'))\n",
        "print(\"AUCscoreadversarial:\",roc_auc_rf_adv)\n"
      ],
      "execution_count": 64,
      "outputs": [
        {
          "output_type": "stream",
          "text": [
            "Accuracyscoreadversarial: 0.43075762952448543\n",
            "F1scoreadversarial: 0.43075762952448543\n",
            "AUCscoreadversarial: 0.5\n"
          ],
          "name": "stdout"
        }
      ]
    },
    {
      "cell_type": "code",
      "metadata": {
        "id": "uum-YKeLU056",
        "colab_type": "code",
        "outputId": "bae5cea3-7705-4021-e9e9-5c1d928806ff",
        "colab": {
          "base_uri": "https://localhost:8080/",
          "height": 296
        }
      },
      "source": [
        "plt.figure()\n",
        "lw=2\n",
        "plt.plot(fpr_rf,tpr_rf,color='darkorange',\n",
        "lw=lw,label='ROCcurve(area=%0.2f)'%roc_auc_rf)\n",
        "plt.plot(fpr_rf_adv,tpr_rf_adv,color='green',\n",
        "lw=lw,label='ROCcurveadv.(area=%0.2f)'%roc_auc_rf_adv)\n",
        "plt.plot([0,1],[0,1],color='navy',lw=lw,linestyle='--')\n",
        "plt.xlim([0.0,1.0])\n",
        "plt.ylim([0.0,1.05])\n",
        "plt.xlabel('FalsePositiveRate')\n",
        "plt.ylabel('TruePositiveRate')\n",
        "plt.title('ROCRandomForest(class=Normal)')\n",
        "plt.legend(loc=\"lower right\")\n",
        "plt.savefig('ROC_RF.png')"
      ],
      "execution_count": 65,
      "outputs": [
        {
          "output_type": "display_data",
          "data": {
            "image/png": "[encoded data removed]",
            "text/plain": [
              "<Figure size 432x288 with 1 Axes>"
            ]
          },
          "metadata": {
            "tags": []
          }
        }
      ]
    },
    {
      "cell_type": "code",
      "metadata": {
        "id": "45A44dBMdBa6",
        "colab_type": "code",
        "outputId": "a034db59-cf77-4385-996f-0a288e177ab9",
        "colab": {
          "base_uri": "https://localhost:8080/",
          "height": 255
        }
      },
      "source": [
        "#SVM\n",
        "sv=OneVsRestClassifier(LinearSVC(C=1.,random_state=42,loss='hinge'))\n",
        "sv.fit(X_train_scaled,y_train)\n",
        "\n",
        "y_pred=sv.predict(X_test_scaled)\n",
        "fpr_sv,tpr_sv,_=roc_curve(y_test[:,0],y_pred[:,0])\n",
        "roc_auc_sv=auc(fpr_sv,tpr_sv)\n",
        "print(\"Accuracyscore:\",accuracy_score(y_test,y_pred))\n",
        "\n",
        "print(\"F1score:\",f1_score(y_test,y_pred,average='micro'))\n",
        "print(\"AUCscore:\",roc_auc_sv)"
      ],
      "execution_count": 66,
      "outputs": [
        {
          "output_type": "stream",
          "text": [
            "/usr/local/lib/python3.6/dist-packages/sklearn/svm/base.py:929: ConvergenceWarning: Liblinear failed to converge, increase the number of iterations.\n",
            "  \"the number of iterations.\", ConvergenceWarning)\n",
            "/usr/local/lib/python3.6/dist-packages/sklearn/svm/base.py:929: ConvergenceWarning: Liblinear failed to converge, increase the number of iterations.\n",
            "  \"the number of iterations.\", ConvergenceWarning)\n",
            "/usr/local/lib/python3.6/dist-packages/sklearn/svm/base.py:929: ConvergenceWarning: Liblinear failed to converge, increase the number of iterations.\n",
            "  \"the number of iterations.\", ConvergenceWarning)\n",
            "/usr/local/lib/python3.6/dist-packages/sklearn/svm/base.py:929: ConvergenceWarning: Liblinear failed to converge, increase the number of iterations.\n",
            "  \"the number of iterations.\", ConvergenceWarning)\n"
          ],
          "name": "stderr"
        },
        {
          "output_type": "stream",
          "text": [
            "Accuracyscore: 0.7311036195883606\n",
            "F1score: 0.7501488653154842\n",
            "AUCscore: 0.7748643544079632\n"
          ],
          "name": "stdout"
        },
        {
          "output_type": "stream",
          "text": [
            "/usr/local/lib/python3.6/dist-packages/sklearn/svm/base.py:929: ConvergenceWarning: Liblinear failed to converge, increase the number of iterations.\n",
            "  \"the number of iterations.\", ConvergenceWarning)\n"
          ],
          "name": "stderr"
        }
      ]
    },
    {
      "cell_type": "code",
      "metadata": {
        "id": "KYAaz3PWdX9z",
        "colab_type": "code",
        "outputId": "17a8b49e-89a7-4336-e354-5807ff1b0616",
        "colab": {
          "base_uri": "https://localhost:8080/",
          "height": 67
        }
      },
      "source": [
        "y_pred_adv=sv.predict(X_adv)\n",
        "fpr_sv_adv,tpr_sv_adv,_=roc_curve(y_test[:,0],y_pred_adv[:,0])\n",
        "roc_auc_sv_adv=auc(fpr_sv_adv,tpr_sv_adv)\n",
        "print(\"Accuracyscoreadversarial\",accuracy_score(y_test,y_pred_adv))\n",
        "print(\"F1scoreadversarial:\",f1_score(y_test,y_pred_adv,average='micro'))\n",
        "print(\"AUCscoreadversarial:\",roc_auc_sv_adv)"
      ],
      "execution_count": 67,
      "outputs": [
        {
          "output_type": "stream",
          "text": [
            "Accuracyscoreadversarial 0.43075762952448543\n",
            "F1scoreadversarial: 0.43075762952448543\n",
            "AUCscoreadversarial: 0.5\n"
          ],
          "name": "stdout"
        }
      ]
    },
    {
      "cell_type": "code",
      "metadata": {
        "id": "8hWCF-NodaPr",
        "colab_type": "code",
        "outputId": "1024b1f1-0819-40e7-ec67-7427dc8f9503",
        "colab": {
          "base_uri": "https://localhost:8080/",
          "height": 296
        }
      },
      "source": [
        "plt.figure()\n",
        "lw=2\n",
        "plt.plot(fpr_sv,tpr_sv,color='darkorange',\n",
        "lw=lw,label='ROCcurve(area=%0.2f)'%roc_auc_sv)\n",
        "plt.plot(fpr_sv_adv,tpr_sv_adv,color='green',\n",
        "lw=lw,label='ROCcurveadv.(area=%0.2f)'%roc_auc_sv_adv)\n",
        "plt.plot([0,1],[0,1],color='navy',lw=lw,linestyle='--')\n",
        "plt.xlim([0.0,1.0])\n",
        "plt.ylim([0.0,1.05])\n",
        "plt.xlabel('FalsePositiveRate')\n",
        "plt.ylabel('TruePositiveRate')\n",
        "plt.title('ROCSVM(class=Normal)')\n",
        "plt.legend(loc=\"lower right\")\n",
        "plt.savefig('ROC_SVM.png')\n"
      ],
      "execution_count": 68,
      "outputs": [
        {
          "output_type": "display_data",
          "data": {
            "image/png": "[encoded data removed]",
            "text/plain": [
              "<Figure size 432x288 with 1 Axes>"
            ]
          },
          "metadata": {
            "tags": []
          }
        }
      ]
    },
    {
      "cell_type": "code",
      "metadata": {
        "id": "D0n-qivZgwGD",
        "colab_type": "code",
        "colab": {}
      },
      "source": [
        ""
      ],
      "execution_count": 0,
      "outputs": []
    }
  ]
}